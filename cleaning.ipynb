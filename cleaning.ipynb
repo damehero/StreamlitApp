{
 "metadata": {
  "language_info": {
   "codemirror_mode": {
    "name": "ipython",
    "version": 3
   },
   "file_extension": ".py",
   "mimetype": "text/x-python",
   "name": "python",
   "nbconvert_exporter": "python",
   "pygments_lexer": "ipython3",
   "version": "3.7.6-final"
  },
  "orig_nbformat": 2,
  "kernelspec": {
   "name": "python3",
   "display_name": "Python 3"
  }
 },
 "nbformat": 4,
 "nbformat_minor": 2,
 "cells": [
  {
   "cell_type": "code",
   "execution_count": 1,
   "metadata": {},
   "outputs": [],
   "source": [
    "import pandas as pd\n",
    "import matplotlib.pyplot as plt\n",
    "import numpy as np"
   ]
  },
  {
   "cell_type": "code",
   "execution_count": 2,
   "metadata": {},
   "outputs": [],
   "source": [
    "df = pd.read_csv('dsgn.csv')"
   ]
  },
  {
   "cell_type": "code",
   "execution_count": 3,
   "metadata": {},
   "outputs": [
    {
     "output_type": "execute_result",
     "data": {
      "text/plain": "                                             Job Title  \\\n0                                     Product Designer   \n1                      Product Designer: Subscriptions   \n2                       Fire Sprinkler System Designer   \n3    Landscape Designer/Sales One Year plus experie...   \n4                          CNC Programmer/CAD Designer   \n..                                                 ...   \n995                             Architectural Designer   \n996                                  Designer, Product   \n997                   Senior Product Design/UX Manager   \n998                    Senior User Experience Designer   \n999               Experience Designer (UX, UI, Visual)   \n\n                  Salary Estimate  \\\n0    $129K-$153K (Glassdoor est.)   \n1    $129K-$153K (Glassdoor est.)   \n2    $129K-$153K (Glassdoor est.)   \n3    $129K-$153K (Glassdoor est.)   \n4    $129K-$153K (Glassdoor est.)   \n..                            ...   \n995   $94K-$187K (Glassdoor est.)   \n996   $94K-$187K (Glassdoor est.)   \n997   $94K-$187K (Glassdoor est.)   \n998   $94K-$187K (Glassdoor est.)   \n999   $94K-$187K (Glassdoor est.)   \n\n                                       Job Description  Rating  \\\n0    About Quora:\\n\\n\\nThe vast majority of human k...     4.1   \n1    Job Description\\nThe Washington Post is seekin...     4.2   \n2    Absolute Fire Protection is looking for qualif...     3.0   \n3    Natures Path is a family owned business. We ar...    -1.0   \n4    Somerset Millwork and Cabinetmakers, Inc is lo...    -1.0   \n..                                                 ...     ...   \n995  At Gannett Fleming, we believe in improving th...     4.0   \n996  About Morningstar\\nMorningstar brings inspired...     4.0   \n997  By applying to this position, your application...     3.2   \n998  Management Controls is looking for a high-impa...     4.1   \n999  PK, the Experience Engineering firm, helps the...     3.7   \n\n                            Company Name           Location  \\\n0                             Quora\\n4.1  Mountain View, CA   \n1               The Washington Post\\n4.2     Washington, DC   \n2    Absolute Fire Protection, Inc.\\n3.0       Rockford, IL   \n3        Natures Path Pool and Landscape        Memphis, TN   \n4                      Somerset Millwork       Somerset, PA   \n..                                   ...                ...   \n995                 Gannett Fleming\\n4.0       New York, NY   \n996                     Morningstar\\n4.0        Chicago, IL   \n997                         Wayfair\\n3.2         Boston, MA   \n998             Management Controls\\n4.1        Houston, TX   \n999                              PK\\n3.7         Denver, CO   \n\n          Headquarters                     Size  Founded  Type of ownership  \\\n0    Mountain View, CA     201 to 500 employees     2009  Company - Private   \n1       Washington, DC   1001 to 5000 employees     1877  Company - Private   \n2         Rockford, IL        1 to 50 employees     2006  Company - Private   \n3                   -1                       -1       -1                 -1   \n4                   -1                       -1       -1                 -1   \n..                 ...                      ...      ...                ...   \n995      Camp Hill, PA   1001 to 5000 employees     1915  Company - Private   \n996        Chicago, IL  5001 to 10000 employees     1984   Company - Public   \n997         Boston, MA         10000+ employees     2002   Company - Public   \n998        Houston, TX      51 to 200 employees     1989  Company - Private   \n999       Portland, OR   1001 to 5000 employees     2004  Company - Private   \n\n     ...                     Revenue  \\\n0    ...    Unknown / Non-Applicable   \n1    ...    Unknown / Non-Applicable   \n2    ...    Unknown / Non-Applicable   \n3    ...                          -1   \n4    ...                          -1   \n..   ...                         ...   \n995  ...  $100 to $500 million (USD)   \n996  ...      $1 to $2 billion (USD)   \n997  ...     $5 to $10 billion (USD)   \n998  ...    $25 to $50 million (USD)   \n999  ...  $100 to $500 million (USD)   \n\n                                  Competitors        LAT         LON  \\\n0                                          -1  37.386052 -122.083851   \n1            New York Times, Google, Politico  38.907192  -77.036871   \n2                                          -1  42.271131  -89.093995   \n3                                          -1  35.149534  -90.048980   \n4                                          -1  40.008411  -79.078083   \n..                                        ...        ...         ...   \n995                                       STV  40.712775  -74.005973   \n996  Thomson Reuters, FactSet, Bloomberg L.P.  41.878114  -87.629798   \n997  Amazon, One Kings Lane, Crate and Barrel  42.360083  -71.058880   \n998                                        -1  29.760427  -95.369803   \n999                                        -1  39.739236 -104.990251   \n\n       Seniority  Minimum Estimate Maximum Estimate           City  State  \\\n0    unspecified               129              153  Mountain View     CA   \n1    unspecified               129              153     Washington     DC   \n2    unspecified               129              153       Rockford     IL   \n3    unspecified               129              153        Memphis     TN   \n4    unspecified               129              153       Somerset     PA   \n..           ...               ...              ...            ...    ...   \n995  unspecified                94              187       New York     NY   \n996  unspecified                94              187        Chicago     IL   \n997       senior                94              187         Boston     MA   \n998       senior                94              187        Houston     TX   \n999  unspecified                94              187         Denver     CO   \n\n    AvgSalary  \n0       141.0  \n1       141.0  \n2       141.0  \n3       141.0  \n4       141.0  \n..        ...  \n995     140.5  \n996     140.5  \n997     140.5  \n998     140.5  \n999     140.5  \n\n[1000 rows x 22 columns]",
      "text/html": "<div>\n<style scoped>\n    .dataframe tbody tr th:only-of-type {\n        vertical-align: middle;\n    }\n\n    .dataframe tbody tr th {\n        vertical-align: top;\n    }\n\n    .dataframe thead th {\n        text-align: right;\n    }\n</style>\n<table border=\"1\" class=\"dataframe\">\n  <thead>\n    <tr style=\"text-align: right;\">\n      <th></th>\n      <th>Job Title</th>\n      <th>Salary Estimate</th>\n      <th>Job Description</th>\n      <th>Rating</th>\n      <th>Company Name</th>\n      <th>Location</th>\n      <th>Headquarters</th>\n      <th>Size</th>\n      <th>Founded</th>\n      <th>Type of ownership</th>\n      <th>...</th>\n      <th>Revenue</th>\n      <th>Competitors</th>\n      <th>LAT</th>\n      <th>LON</th>\n      <th>Seniority</th>\n      <th>Minimum Estimate</th>\n      <th>Maximum Estimate</th>\n      <th>City</th>\n      <th>State</th>\n      <th>AvgSalary</th>\n    </tr>\n  </thead>\n  <tbody>\n    <tr>\n      <th>0</th>\n      <td>Product Designer</td>\n      <td>$129K-$153K (Glassdoor est.)</td>\n      <td>About Quora:\\n\\n\\nThe vast majority of human k...</td>\n      <td>4.1</td>\n      <td>Quora\\n4.1</td>\n      <td>Mountain View, CA</td>\n      <td>Mountain View, CA</td>\n      <td>201 to 500 employees</td>\n      <td>2009</td>\n      <td>Company - Private</td>\n      <td>...</td>\n      <td>Unknown / Non-Applicable</td>\n      <td>-1</td>\n      <td>37.386052</td>\n      <td>-122.083851</td>\n      <td>unspecified</td>\n      <td>129</td>\n      <td>153</td>\n      <td>Mountain View</td>\n      <td>CA</td>\n      <td>141.0</td>\n    </tr>\n    <tr>\n      <th>1</th>\n      <td>Product Designer: Subscriptions</td>\n      <td>$129K-$153K (Glassdoor est.)</td>\n      <td>Job Description\\nThe Washington Post is seekin...</td>\n      <td>4.2</td>\n      <td>The Washington Post\\n4.2</td>\n      <td>Washington, DC</td>\n      <td>Washington, DC</td>\n      <td>1001 to 5000 employees</td>\n      <td>1877</td>\n      <td>Company - Private</td>\n      <td>...</td>\n      <td>Unknown / Non-Applicable</td>\n      <td>New York Times, Google, Politico</td>\n      <td>38.907192</td>\n      <td>-77.036871</td>\n      <td>unspecified</td>\n      <td>129</td>\n      <td>153</td>\n      <td>Washington</td>\n      <td>DC</td>\n      <td>141.0</td>\n    </tr>\n    <tr>\n      <th>2</th>\n      <td>Fire Sprinkler System Designer</td>\n      <td>$129K-$153K (Glassdoor est.)</td>\n      <td>Absolute Fire Protection is looking for qualif...</td>\n      <td>3.0</td>\n      <td>Absolute Fire Protection, Inc.\\n3.0</td>\n      <td>Rockford, IL</td>\n      <td>Rockford, IL</td>\n      <td>1 to 50 employees</td>\n      <td>2006</td>\n      <td>Company - Private</td>\n      <td>...</td>\n      <td>Unknown / Non-Applicable</td>\n      <td>-1</td>\n      <td>42.271131</td>\n      <td>-89.093995</td>\n      <td>unspecified</td>\n      <td>129</td>\n      <td>153</td>\n      <td>Rockford</td>\n      <td>IL</td>\n      <td>141.0</td>\n    </tr>\n    <tr>\n      <th>3</th>\n      <td>Landscape Designer/Sales One Year plus experie...</td>\n      <td>$129K-$153K (Glassdoor est.)</td>\n      <td>Natures Path is a family owned business. We ar...</td>\n      <td>-1.0</td>\n      <td>Natures Path Pool and Landscape</td>\n      <td>Memphis, TN</td>\n      <td>-1</td>\n      <td>-1</td>\n      <td>-1</td>\n      <td>-1</td>\n      <td>...</td>\n      <td>-1</td>\n      <td>-1</td>\n      <td>35.149534</td>\n      <td>-90.048980</td>\n      <td>unspecified</td>\n      <td>129</td>\n      <td>153</td>\n      <td>Memphis</td>\n      <td>TN</td>\n      <td>141.0</td>\n    </tr>\n    <tr>\n      <th>4</th>\n      <td>CNC Programmer/CAD Designer</td>\n      <td>$129K-$153K (Glassdoor est.)</td>\n      <td>Somerset Millwork and Cabinetmakers, Inc is lo...</td>\n      <td>-1.0</td>\n      <td>Somerset Millwork</td>\n      <td>Somerset, PA</td>\n      <td>-1</td>\n      <td>-1</td>\n      <td>-1</td>\n      <td>-1</td>\n      <td>...</td>\n      <td>-1</td>\n      <td>-1</td>\n      <td>40.008411</td>\n      <td>-79.078083</td>\n      <td>unspecified</td>\n      <td>129</td>\n      <td>153</td>\n      <td>Somerset</td>\n      <td>PA</td>\n      <td>141.0</td>\n    </tr>\n    <tr>\n      <th>...</th>\n      <td>...</td>\n      <td>...</td>\n      <td>...</td>\n      <td>...</td>\n      <td>...</td>\n      <td>...</td>\n      <td>...</td>\n      <td>...</td>\n      <td>...</td>\n      <td>...</td>\n      <td>...</td>\n      <td>...</td>\n      <td>...</td>\n      <td>...</td>\n      <td>...</td>\n      <td>...</td>\n      <td>...</td>\n      <td>...</td>\n      <td>...</td>\n      <td>...</td>\n      <td>...</td>\n    </tr>\n    <tr>\n      <th>995</th>\n      <td>Architectural Designer</td>\n      <td>$94K-$187K (Glassdoor est.)</td>\n      <td>At Gannett Fleming, we believe in improving th...</td>\n      <td>4.0</td>\n      <td>Gannett Fleming\\n4.0</td>\n      <td>New York, NY</td>\n      <td>Camp Hill, PA</td>\n      <td>1001 to 5000 employees</td>\n      <td>1915</td>\n      <td>Company - Private</td>\n      <td>...</td>\n      <td>$100 to $500 million (USD)</td>\n      <td>STV</td>\n      <td>40.712775</td>\n      <td>-74.005973</td>\n      <td>unspecified</td>\n      <td>94</td>\n      <td>187</td>\n      <td>New York</td>\n      <td>NY</td>\n      <td>140.5</td>\n    </tr>\n    <tr>\n      <th>996</th>\n      <td>Designer, Product</td>\n      <td>$94K-$187K (Glassdoor est.)</td>\n      <td>About Morningstar\\nMorningstar brings inspired...</td>\n      <td>4.0</td>\n      <td>Morningstar\\n4.0</td>\n      <td>Chicago, IL</td>\n      <td>Chicago, IL</td>\n      <td>5001 to 10000 employees</td>\n      <td>1984</td>\n      <td>Company - Public</td>\n      <td>...</td>\n      <td>$1 to $2 billion (USD)</td>\n      <td>Thomson Reuters, FactSet, Bloomberg L.P.</td>\n      <td>41.878114</td>\n      <td>-87.629798</td>\n      <td>unspecified</td>\n      <td>94</td>\n      <td>187</td>\n      <td>Chicago</td>\n      <td>IL</td>\n      <td>140.5</td>\n    </tr>\n    <tr>\n      <th>997</th>\n      <td>Senior Product Design/UX Manager</td>\n      <td>$94K-$187K (Glassdoor est.)</td>\n      <td>By applying to this position, your application...</td>\n      <td>3.2</td>\n      <td>Wayfair\\n3.2</td>\n      <td>Boston, MA</td>\n      <td>Boston, MA</td>\n      <td>10000+ employees</td>\n      <td>2002</td>\n      <td>Company - Public</td>\n      <td>...</td>\n      <td>$5 to $10 billion (USD)</td>\n      <td>Amazon, One Kings Lane, Crate and Barrel</td>\n      <td>42.360083</td>\n      <td>-71.058880</td>\n      <td>senior</td>\n      <td>94</td>\n      <td>187</td>\n      <td>Boston</td>\n      <td>MA</td>\n      <td>140.5</td>\n    </tr>\n    <tr>\n      <th>998</th>\n      <td>Senior User Experience Designer</td>\n      <td>$94K-$187K (Glassdoor est.)</td>\n      <td>Management Controls is looking for a high-impa...</td>\n      <td>4.1</td>\n      <td>Management Controls\\n4.1</td>\n      <td>Houston, TX</td>\n      <td>Houston, TX</td>\n      <td>51 to 200 employees</td>\n      <td>1989</td>\n      <td>Company - Private</td>\n      <td>...</td>\n      <td>$25 to $50 million (USD)</td>\n      <td>-1</td>\n      <td>29.760427</td>\n      <td>-95.369803</td>\n      <td>senior</td>\n      <td>94</td>\n      <td>187</td>\n      <td>Houston</td>\n      <td>TX</td>\n      <td>140.5</td>\n    </tr>\n    <tr>\n      <th>999</th>\n      <td>Experience Designer (UX, UI, Visual)</td>\n      <td>$94K-$187K (Glassdoor est.)</td>\n      <td>PK, the Experience Engineering firm, helps the...</td>\n      <td>3.7</td>\n      <td>PK\\n3.7</td>\n      <td>Denver, CO</td>\n      <td>Portland, OR</td>\n      <td>1001 to 5000 employees</td>\n      <td>2004</td>\n      <td>Company - Private</td>\n      <td>...</td>\n      <td>$100 to $500 million (USD)</td>\n      <td>-1</td>\n      <td>39.739236</td>\n      <td>-104.990251</td>\n      <td>unspecified</td>\n      <td>94</td>\n      <td>187</td>\n      <td>Denver</td>\n      <td>CO</td>\n      <td>140.5</td>\n    </tr>\n  </tbody>\n</table>\n<p>1000 rows × 22 columns</p>\n</div>"
     },
     "metadata": {},
     "execution_count": 3
    }
   ],
   "source": [
    "df"
   ]
  },
  {
   "cell_type": "code",
   "execution_count": 4,
   "metadata": {},
   "outputs": [
    {
     "output_type": "execute_result",
     "data": {
      "text/plain": "San Francisco, CA       106\nChicago, IL              92\nNew York, NY             78\nBoston, MA               68\nSaint Louis, MO          24\n                       ... \nSanta Fe Springs, CA      1\nNewport News, VA          1\nCambridge, MA             1\nBlacksburg, VA            1\nJefferson, IA             1\nName: Headquarters, Length: 187, dtype: int64"
     },
     "metadata": {},
     "execution_count": 4
    }
   ],
   "source": [
    "df=df[df['Headquarters']!='-1']\n",
    "df['Headquarters'].value_counts()"
   ]
  },
  {
   "cell_type": "code",
   "execution_count": 5,
   "metadata": {},
   "outputs": [
    {
     "output_type": "execute_result",
     "data": {
      "text/plain": "(984, 22)"
     },
     "metadata": {},
     "execution_count": 5
    }
   ],
   "source": [
    "df.shape #only 21 rows removed"
   ]
  },
  {
   "cell_type": "code",
   "execution_count": 6,
   "metadata": {},
   "outputs": [
    {
     "output_type": "execute_result",
     "data": {
      "text/plain": "(955, 22)"
     },
     "metadata": {},
     "execution_count": 6
    }
   ],
   "source": [
    "df=df[df['Rating']!=-1.0]\n",
    "df.shape #Another 27 rows removed"
   ]
  },
  {
   "cell_type": "code",
   "execution_count": 7,
   "metadata": {},
   "outputs": [
    {
     "output_type": "execute_result",
     "data": {
      "text/plain": " CA              302\n NY              106\n MA               71\n TX               57\n MO               50\n CO               43\n IL               39\n PA               35\n VA               35\n MD               27\n NV               21\nUnited States     21\n AR               20\n WA               13\n WI               12\n UT               11\n FL               10\n DC                9\n GA                8\n IN                7\n OH                7\n NC                6\n NJ                6\n MI                6\nChicago            5\n AK                4\n MN                4\n OR                3\n AL                3\n AZ                3\n LA                1\n IA                1\n KS                1\nArkansas           1\n NE                1\nNew Jersey         1\n ME                1\n TN                1\nRemote             1\n CT                1\n SC                1\nName: State, dtype: int64"
     },
     "metadata": {},
     "execution_count": 7
    }
   ],
   "source": [
    "df['State'].value_counts()"
   ]
  },
  {
   "cell_type": "code",
   "execution_count": 8,
   "metadata": {},
   "outputs": [],
   "source": [
    "non_state_ab = df[(df['State'] == 'United States') | (df['State'] == 'Chicago') | (df['State'] == 'New Jersey') | (df['State'] == 'Arkansas') | (df['State'] == 'Remote')].index\n",
    "df = df.drop(non_state_ab)"
   ]
  },
  {
   "cell_type": "code",
   "execution_count": 9,
   "metadata": {},
   "outputs": [
    {
     "output_type": "execute_result",
     "data": {
      "text/plain": "1    467\n0    459\nName: jobhq, dtype: int64"
     },
     "metadata": {},
     "execution_count": 9
    }
   ],
   "source": [
    "df['jobhq'] = df.apply(lambda x: 1 if x['Location'] == x['Headquarters'] else 0, axis = 1)\n",
    "df.jobhq.value_counts()"
   ]
  },
  {
   "cell_type": "code",
   "execution_count": 10,
   "metadata": {},
   "outputs": [
    {
     "output_type": "execute_result",
     "data": {
      "text/plain": "18    66\n4     55\n7     48\n9     48\n34    46\n      ..\n63     1\n62     1\n59     1\n52     1\n54     1\nName: age, Length: 99, dtype: int64"
     },
     "metadata": {},
     "execution_count": 10
    }
   ],
   "source": [
    "df['age']=df.Founded.apply(lambda x: x if x<1 else 2020-x)\n",
    "df.age.value_counts() #we have 92 companies with no founding date but we can't remove that many rows"
   ]
  },
  {
   "cell_type": "code",
   "execution_count": 15,
   "metadata": {},
   "outputs": [
    {
     "output_type": "execute_result",
     "data": {
      "text/plain": "Graphic Designer                  58\nDesigner                          48\nProduct Designer                  42\nArchitectural Designer            39\nSenior Product Designer           35\n                                  ..\nSenior Product Designer (NY)       1\nSystems Designer                   1\nExperiential Graphic Designer      1\nDesigner, Digital                  1\nSenior User Interface Designer     1\nName: Job Title, Length: 216, dtype: int64"
     },
     "metadata": {},
     "execution_count": 15
    }
   ],
   "source": [
    "df['Job Title'].value_counts()"
   ]
  },
  {
   "cell_type": "code",
   "execution_count": 16,
   "metadata": {},
   "outputs": [],
   "source": [
    "def title_simplifier(title):\n",
    "    if 'product desinger' in title.lower():\n",
    "        return 'product designer'\n",
    "    elif 'graphic' in title.lower() or 'art' in title.lower() or 'digital' in title.lower():\n",
    "        return 'graphic designer'\n",
    "    elif 'ui/ux' in title.lower() or 'ux/ui' in title.lower() or 'ui' in title.lower() or 'ux' in title.lower() or 'experience' in title.lower() or 'interaction' in title.lower():\n",
    "        return 'ui/ux'\n",
    "    elif 'mechanical' in title.lower() or 'architect' in title.lower() or 'architectural' in title.lower() or 'landscape' in title.lower() or 'electrical' in title.lower() or 'plumbing' in title.lower() or 'piping' in title.lower() or 'interior' in title.lower() or 'cad' in title.lower():\n",
    "        return 'structural'\n",
    "    elif 'web' in title.lower() or 'website' in title.lower():\n",
    "        return 'web'\n",
    "    else:\n",
    "        return 'unspecified'"
   ]
  },
  {
   "cell_type": "code",
   "execution_count": 17,
   "metadata": {},
   "outputs": [],
   "source": [
    "def title_number_simplifier(title):\n",
    "    if 'product designer' in title.lower():\n",
    "        return 6\n",
    "    elif 'graphic designer' in title.lower():\n",
    "        return 2\n",
    "    elif 'ui/ux' in title.lower():\n",
    "        return 5\n",
    "    elif 'structural' in title.lower():\n",
    "        return 3\n",
    "    elif 'web' in title.lower():\n",
    "        return 4\n",
    "    else:\n",
    "        return 1"
   ]
  },
  {
   "cell_type": "code",
   "execution_count": 18,
   "metadata": {},
   "outputs": [
    {
     "output_type": "execute_result",
     "data": {
      "text/plain": "unspecified         443\nui/ux               202\nstructural          174\ngraphic designer     97\nweb                  10\nName: job_type, dtype: int64"
     },
     "metadata": {},
     "execution_count": 18
    }
   ],
   "source": [
    "df['job_type']=df['Job Title'].apply(title_simplifier)\n",
    "df['job_type_num']=df['Job Title'].apply(title_number_simplifier)\n",
    "df['job_type'].value_counts()"
   ]
  },
  {
   "cell_type": "code",
   "execution_count": 19,
   "metadata": {},
   "outputs": [],
   "source": [
    "def seniority(title):\n",
    "    \n",
    "    '''Identify and group specific job titles'''\n",
    "    \n",
    "    title = title.lower()\n",
    "    title = title.strip()\n",
    "    \n",
    "    seniority = ['senior', 'sr.', 'sr', 'lead', 'expert', 'experienced', 'principal']\n",
    "    juniority = ['junior', 'jr.', 'jr', 'intern']\n",
    "    \n",
    "    for i in seniority:\n",
    "        if i in title:\n",
    "            return 'senior'\n",
    "    \n",
    "    for i in juniority:\n",
    "        if i in title:\n",
    "            return 'junior'\n",
    "    \n",
    "    else:\n",
    "        return 'unspecified'"
   ]
  },
  {
   "cell_type": "code",
   "execution_count": 22,
   "metadata": {},
   "outputs": [],
   "source": [
    "def seniority_number(title):\n",
    "    title = title.lower()\n",
    "    title = title.strip()\n",
    "    \n",
    "    seniority = ['senior', 'sr.', 'sr', 'lead', 'expert', 'experienced', 'principal']\n",
    "    juniority = ['junior', 'jr.', 'jr', 'intern']\n",
    "    \n",
    "    for i in seniority:\n",
    "        if i in title:\n",
    "            return '1'\n",
    "    \n",
    "    for i in juniority:\n",
    "        if i in title:\n",
    "            return '0'\n",
    "    \n",
    "    else:\n",
    "        return '2'"
   ]
  },
  {
   "cell_type": "code",
   "execution_count": 23,
   "metadata": {},
   "outputs": [
    {
     "output_type": "execute_result",
     "data": {
      "text/plain": "unspecified    634\nsenior         290\njunior           2\nName: seniority, dtype: int64"
     },
     "metadata": {},
     "execution_count": 23
    }
   ],
   "source": [
    "df['seniority']=df['Job Title'].apply(seniority)\n",
    "df['seniority_num']=df['Job Title'].apply(seniority_number)\n",
    "df['seniority'].value_counts()"
   ]
  },
  {
   "cell_type": "code",
   "execution_count": 30,
   "metadata": {},
   "outputs": [
    {
     "output_type": "execute_result",
     "data": {
      "text/plain": "0    550\n1    376\nName: graphic_yn, dtype: int64"
     },
     "metadata": {},
     "execution_count": 30
    }
   ],
   "source": [
    "df['figma_yn'] = df['Job Description'].apply(lambda x: 1 if 'figma' in x.lower() else 0)\n",
    "df.figma_yn.value_counts() \n",
    "\n",
    "df['adobe_yn'] = df['Job Description'].apply(lambda x: 1 if 'adobe' in x.lower() else 0)\n",
    "df.adobe_yn.value_counts()\n",
    "\n",
    "df['cad_yn'] = df['Job Description'].apply(lambda x: 1 if 'cad' in x.lower() else 0)\n",
    "df.cad_yn.value_counts()\n",
    "\n",
    "df['html_css_js_yn'] = df['Job Description'].apply(lambda x: 1 if 'html' in x.lower() or 'css' in x.lower() or 'javascript' in x.lower() else 0)\n",
    "df.html_css_js_yn.value_counts()\n",
    "\n",
    "df['photo_yn'] = df['Job Description'].apply(lambda x: 1 if 'photo' in x.lower() else 0)\n",
    "df.photo_yn.value_counts()\n",
    "\n",
    "df['graphic_yn'] = df['Job Description'].apply(lambda x: 1 if 'graphic' in x.lower() else 0)\n",
    "df.graphic_yn.value_counts()"
   ]
  },
  {
   "cell_type": "code",
   "execution_count": 31,
   "metadata": {},
   "outputs": [
    {
     "output_type": "execute_result",
     "data": {
      "text/plain": "Index(['Job Title', 'Salary Estimate', 'Job Description', 'Rating',\n       'Company Name', 'Location', 'Headquarters', 'Size', 'Founded',\n       'Type of ownership', 'Industry', 'Sector', 'Revenue', 'Competitors',\n       'LAT', 'LON', 'Seniority', 'Minimum Estimate', 'Maximum Estimate',\n       'City', 'State', 'AvgSalary', 'jobhq', 'age', 'job_type',\n       'job_type_num', 'seniority', 'seniority_num', 'figma_yn', 'adobe_yn',\n       'cad_yn', 'html_css_js_yn', 'photo_yn', 'graphic_yn'],\n      dtype='object')"
     },
     "metadata": {},
     "execution_count": 31
    }
   ],
   "source": [
    "df.columns"
   ]
  },
  {
   "cell_type": "code",
   "execution_count": 32,
   "metadata": {},
   "outputs": [],
   "source": [
    "df.to_csv('dsgn_cleaned.csv',index=False)"
   ]
  },
  {
   "cell_type": "code",
   "execution_count": null,
   "metadata": {},
   "outputs": [],
   "source": []
  }
 ]
}