{
 "cells": [
  {
   "cell_type": "code",
   "execution_count": 3,
   "metadata": {
    "tags": []
   },
   "outputs": [],
   "source": [
    "import pandas as pd\n",
    "import numpy as np\n",
    "import matplotlib.pyplot as plt"
   ]
  },
  {
   "cell_type": "code",
   "execution_count": 4,
   "metadata": {},
   "outputs": [],
   "source": [
    "df = pd.read_csv('dsgn_cleaned.csv')"
   ]
  },
  {
   "cell_type": "code",
   "execution_count": 5,
   "metadata": {},
   "outputs": [
    {
     "output_type": "execute_result",
     "data": {
      "text/plain": "                                Job Title               Salary Estimate  \\\n0                        Product Designer  $129K-$153K (Glassdoor est.)   \n1         Product Designer: Subscriptions  $129K-$153K (Glassdoor est.)   \n2          Fire Sprinkler System Designer  $129K-$153K (Glassdoor est.)   \n3                            Art Director  $129K-$153K (Glassdoor est.)   \n4                     AV Systems Designer  $129K-$153K (Glassdoor est.)   \n..                                    ...                           ...   \n921                Architectural Designer   $94K-$187K (Glassdoor est.)   \n922                     Designer, Product   $94K-$187K (Glassdoor est.)   \n923      Senior Product Design/UX Manager   $94K-$187K (Glassdoor est.)   \n924       Senior User Experience Designer   $94K-$187K (Glassdoor est.)   \n925  Experience Designer (UX, UI, Visual)   $94K-$187K (Glassdoor est.)   \n\n                                       Job Description  Rating  \\\n0    About Quora:\\n\\n\\nThe vast majority of human k...     4.1   \n1    Job Description\\nThe Washington Post is seekin...     4.2   \n2    Absolute Fire Protection is looking for qualif...     3.0   \n3    We just keep growing. It’s amazing. Seriously....     4.5   \n4    General Function:\\n\\nReporting to the Regional...     4.0   \n..                                                 ...     ...   \n921  At Gannett Fleming, we believe in improving th...     4.0   \n922  About Morningstar\\nMorningstar brings inspired...     4.0   \n923  By applying to this position, your application...     3.2   \n924  Management Controls is looking for a high-impa...     4.1   \n925  PK, the Experience Engineering firm, helps the...     3.7   \n\n                            Company Name                       Location  \\\n0                             Quora\\n4.1              Mountain View, CA   \n1               The Washington Post\\n4.2                 Washington, DC   \n2    Absolute Fire Protection, Inc.\\n3.0                   Rockford, IL   \n3               Paradowski Creative\\n4.5  Webster Groves, St. Louis, MO   \n4                          Spinitar\\n4.0                   Carlsbad, CA   \n..                                   ...                            ...   \n921                 Gannett Fleming\\n4.0                   New York, NY   \n922                     Morningstar\\n4.0                    Chicago, IL   \n923                         Wayfair\\n3.2                     Boston, MA   \n924             Management Controls\\n4.1                    Houston, TX   \n925                              PK\\n3.7                     Denver, CO   \n\n           Headquarters                     Size  Founded  Type of ownership  \\\n0     Mountain View, CA     201 to 500 employees     2009  Company - Private   \n1        Washington, DC   1001 to 5000 employees     1877  Company - Private   \n2          Rockford, IL        1 to 50 employees     2006  Company - Private   \n3    Webster Groves, MO      51 to 200 employees     1977  Company - Private   \n4         La Mirada, CA      51 to 200 employees     1986  Company - Private   \n..                  ...                      ...      ...                ...   \n921       Camp Hill, PA   1001 to 5000 employees     1915  Company - Private   \n922         Chicago, IL  5001 to 10000 employees     1984   Company - Public   \n923          Boston, MA         10000+ employees     2002   Company - Public   \n924         Houston, TX      51 to 200 employees     1989  Company - Private   \n925        Portland, OR   1001 to 5000 employees     2004  Company - Private   \n\n     ...          job_type job_type_num    seniority seniority_num  figma_yn  \\\n0    ...       unspecified            6  unspecified             2         0   \n1    ...       unspecified            6  unspecified             2         0   \n2    ...       unspecified            1  unspecified             2         0   \n3    ...  graphic designer            1  unspecified             2         0   \n4    ...       unspecified            1  unspecified             2         0   \n..   ...               ...          ...          ...           ...       ...   \n921  ...        structural            1  unspecified             2         0   \n922  ...       unspecified            1  unspecified             2         0   \n923  ...             ui/ux            1       senior             1         0   \n924  ...             ui/ux            1       senior             1         1   \n925  ...             ui/ux            1  unspecified             2         0   \n\n     adobe_yn cad_yn  html_css_js_yn  photo_yn graphic_yn  \n0           0      0               1         0          0  \n1           1      0               0         0          0  \n2           0      0               0         0          0  \n3           0      0               0         1          0  \n4           0      1               0         0          0  \n..        ...    ...             ...       ...        ...  \n921         0      1               0         1          0  \n922         1      0               1         0          0  \n923         0      0               0         0          0  \n924         0      0               1         0          0  \n925         1      0               0         0          0  \n\n[926 rows x 34 columns]",
      "text/html": "<div>\n<style scoped>\n    .dataframe tbody tr th:only-of-type {\n        vertical-align: middle;\n    }\n\n    .dataframe tbody tr th {\n        vertical-align: top;\n    }\n\n    .dataframe thead th {\n        text-align: right;\n    }\n</style>\n<table border=\"1\" class=\"dataframe\">\n  <thead>\n    <tr style=\"text-align: right;\">\n      <th></th>\n      <th>Job Title</th>\n      <th>Salary Estimate</th>\n      <th>Job Description</th>\n      <th>Rating</th>\n      <th>Company Name</th>\n      <th>Location</th>\n      <th>Headquarters</th>\n      <th>Size</th>\n      <th>Founded</th>\n      <th>Type of ownership</th>\n      <th>...</th>\n      <th>job_type</th>\n      <th>job_type_num</th>\n      <th>seniority</th>\n      <th>seniority_num</th>\n      <th>figma_yn</th>\n      <th>adobe_yn</th>\n      <th>cad_yn</th>\n      <th>html_css_js_yn</th>\n      <th>photo_yn</th>\n      <th>graphic_yn</th>\n    </tr>\n  </thead>\n  <tbody>\n    <tr>\n      <th>0</th>\n      <td>Product Designer</td>\n      <td>$129K-$153K (Glassdoor est.)</td>\n      <td>About Quora:\\n\\n\\nThe vast majority of human k...</td>\n      <td>4.1</td>\n      <td>Quora\\n4.1</td>\n      <td>Mountain View, CA</td>\n      <td>Mountain View, CA</td>\n      <td>201 to 500 employees</td>\n      <td>2009</td>\n      <td>Company - Private</td>\n      <td>...</td>\n      <td>unspecified</td>\n      <td>6</td>\n      <td>unspecified</td>\n      <td>2</td>\n      <td>0</td>\n      <td>0</td>\n      <td>0</td>\n      <td>1</td>\n      <td>0</td>\n      <td>0</td>\n    </tr>\n    <tr>\n      <th>1</th>\n      <td>Product Designer: Subscriptions</td>\n      <td>$129K-$153K (Glassdoor est.)</td>\n      <td>Job Description\\nThe Washington Post is seekin...</td>\n      <td>4.2</td>\n      <td>The Washington Post\\n4.2</td>\n      <td>Washington, DC</td>\n      <td>Washington, DC</td>\n      <td>1001 to 5000 employees</td>\n      <td>1877</td>\n      <td>Company - Private</td>\n      <td>...</td>\n      <td>unspecified</td>\n      <td>6</td>\n      <td>unspecified</td>\n      <td>2</td>\n      <td>0</td>\n      <td>1</td>\n      <td>0</td>\n      <td>0</td>\n      <td>0</td>\n      <td>0</td>\n    </tr>\n    <tr>\n      <th>2</th>\n      <td>Fire Sprinkler System Designer</td>\n      <td>$129K-$153K (Glassdoor est.)</td>\n      <td>Absolute Fire Protection is looking for qualif...</td>\n      <td>3.0</td>\n      <td>Absolute Fire Protection, Inc.\\n3.0</td>\n      <td>Rockford, IL</td>\n      <td>Rockford, IL</td>\n      <td>1 to 50 employees</td>\n      <td>2006</td>\n      <td>Company - Private</td>\n      <td>...</td>\n      <td>unspecified</td>\n      <td>1</td>\n      <td>unspecified</td>\n      <td>2</td>\n      <td>0</td>\n      <td>0</td>\n      <td>0</td>\n      <td>0</td>\n      <td>0</td>\n      <td>0</td>\n    </tr>\n    <tr>\n      <th>3</th>\n      <td>Art Director</td>\n      <td>$129K-$153K (Glassdoor est.)</td>\n      <td>We just keep growing. It’s amazing. Seriously....</td>\n      <td>4.5</td>\n      <td>Paradowski Creative\\n4.5</td>\n      <td>Webster Groves, St. Louis, MO</td>\n      <td>Webster Groves, MO</td>\n      <td>51 to 200 employees</td>\n      <td>1977</td>\n      <td>Company - Private</td>\n      <td>...</td>\n      <td>graphic designer</td>\n      <td>1</td>\n      <td>unspecified</td>\n      <td>2</td>\n      <td>0</td>\n      <td>0</td>\n      <td>0</td>\n      <td>0</td>\n      <td>1</td>\n      <td>0</td>\n    </tr>\n    <tr>\n      <th>4</th>\n      <td>AV Systems Designer</td>\n      <td>$129K-$153K (Glassdoor est.)</td>\n      <td>General Function:\\n\\nReporting to the Regional...</td>\n      <td>4.0</td>\n      <td>Spinitar\\n4.0</td>\n      <td>Carlsbad, CA</td>\n      <td>La Mirada, CA</td>\n      <td>51 to 200 employees</td>\n      <td>1986</td>\n      <td>Company - Private</td>\n      <td>...</td>\n      <td>unspecified</td>\n      <td>1</td>\n      <td>unspecified</td>\n      <td>2</td>\n      <td>0</td>\n      <td>0</td>\n      <td>1</td>\n      <td>0</td>\n      <td>0</td>\n      <td>0</td>\n    </tr>\n    <tr>\n      <th>...</th>\n      <td>...</td>\n      <td>...</td>\n      <td>...</td>\n      <td>...</td>\n      <td>...</td>\n      <td>...</td>\n      <td>...</td>\n      <td>...</td>\n      <td>...</td>\n      <td>...</td>\n      <td>...</td>\n      <td>...</td>\n      <td>...</td>\n      <td>...</td>\n      <td>...</td>\n      <td>...</td>\n      <td>...</td>\n      <td>...</td>\n      <td>...</td>\n      <td>...</td>\n      <td>...</td>\n    </tr>\n    <tr>\n      <th>921</th>\n      <td>Architectural Designer</td>\n      <td>$94K-$187K (Glassdoor est.)</td>\n      <td>At Gannett Fleming, we believe in improving th...</td>\n      <td>4.0</td>\n      <td>Gannett Fleming\\n4.0</td>\n      <td>New York, NY</td>\n      <td>Camp Hill, PA</td>\n      <td>1001 to 5000 employees</td>\n      <td>1915</td>\n      <td>Company - Private</td>\n      <td>...</td>\n      <td>structural</td>\n      <td>1</td>\n      <td>unspecified</td>\n      <td>2</td>\n      <td>0</td>\n      <td>0</td>\n      <td>1</td>\n      <td>0</td>\n      <td>1</td>\n      <td>0</td>\n    </tr>\n    <tr>\n      <th>922</th>\n      <td>Designer, Product</td>\n      <td>$94K-$187K (Glassdoor est.)</td>\n      <td>About Morningstar\\nMorningstar brings inspired...</td>\n      <td>4.0</td>\n      <td>Morningstar\\n4.0</td>\n      <td>Chicago, IL</td>\n      <td>Chicago, IL</td>\n      <td>5001 to 10000 employees</td>\n      <td>1984</td>\n      <td>Company - Public</td>\n      <td>...</td>\n      <td>unspecified</td>\n      <td>1</td>\n      <td>unspecified</td>\n      <td>2</td>\n      <td>0</td>\n      <td>1</td>\n      <td>0</td>\n      <td>1</td>\n      <td>0</td>\n      <td>0</td>\n    </tr>\n    <tr>\n      <th>923</th>\n      <td>Senior Product Design/UX Manager</td>\n      <td>$94K-$187K (Glassdoor est.)</td>\n      <td>By applying to this position, your application...</td>\n      <td>3.2</td>\n      <td>Wayfair\\n3.2</td>\n      <td>Boston, MA</td>\n      <td>Boston, MA</td>\n      <td>10000+ employees</td>\n      <td>2002</td>\n      <td>Company - Public</td>\n      <td>...</td>\n      <td>ui/ux</td>\n      <td>1</td>\n      <td>senior</td>\n      <td>1</td>\n      <td>0</td>\n      <td>0</td>\n      <td>0</td>\n      <td>0</td>\n      <td>0</td>\n      <td>0</td>\n    </tr>\n    <tr>\n      <th>924</th>\n      <td>Senior User Experience Designer</td>\n      <td>$94K-$187K (Glassdoor est.)</td>\n      <td>Management Controls is looking for a high-impa...</td>\n      <td>4.1</td>\n      <td>Management Controls\\n4.1</td>\n      <td>Houston, TX</td>\n      <td>Houston, TX</td>\n      <td>51 to 200 employees</td>\n      <td>1989</td>\n      <td>Company - Private</td>\n      <td>...</td>\n      <td>ui/ux</td>\n      <td>1</td>\n      <td>senior</td>\n      <td>1</td>\n      <td>1</td>\n      <td>0</td>\n      <td>0</td>\n      <td>1</td>\n      <td>0</td>\n      <td>0</td>\n    </tr>\n    <tr>\n      <th>925</th>\n      <td>Experience Designer (UX, UI, Visual)</td>\n      <td>$94K-$187K (Glassdoor est.)</td>\n      <td>PK, the Experience Engineering firm, helps the...</td>\n      <td>3.7</td>\n      <td>PK\\n3.7</td>\n      <td>Denver, CO</td>\n      <td>Portland, OR</td>\n      <td>1001 to 5000 employees</td>\n      <td>2004</td>\n      <td>Company - Private</td>\n      <td>...</td>\n      <td>ui/ux</td>\n      <td>1</td>\n      <td>unspecified</td>\n      <td>2</td>\n      <td>0</td>\n      <td>1</td>\n      <td>0</td>\n      <td>0</td>\n      <td>0</td>\n      <td>0</td>\n    </tr>\n  </tbody>\n</table>\n<p>926 rows × 34 columns</p>\n</div>"
     },
     "metadata": {},
     "execution_count": 5
    }
   ],
   "source": [
    "df"
   ]
  },
  {
   "cell_type": "code",
   "execution_count": 6,
   "metadata": {},
   "outputs": [
    {
     "output_type": "execute_result",
     "data": {
      "text/plain": "Index(['Job Title', 'Salary Estimate', 'Job Description', 'Rating',\n       'Company Name', 'Location', 'Headquarters', 'Size', 'Founded',\n       'Type of ownership', 'Industry', 'Sector', 'Revenue', 'Competitors',\n       'LAT', 'LON', 'Seniority', 'Minimum Estimate', 'Maximum Estimate',\n       'City', 'State', 'AvgSalary', 'jobhq', 'age', 'job_type',\n       'job_type_num', 'seniority', 'seniority_num', 'figma_yn', 'adobe_yn',\n       'cad_yn', 'html_css_js_yn', 'photo_yn', 'graphic_yn'],\n      dtype='object')"
     },
     "metadata": {},
     "execution_count": 6
    }
   ],
   "source": [
    "df.columns"
   ]
  },
  {
   "cell_type": "code",
   "execution_count": 7,
   "metadata": {},
   "outputs": [],
   "source": [
    "df_model=df[['AvgSalary','Rating','jobhq','age', 'figma_yn', 'adobe_yn',\n",
    "       'cad_yn', 'html_css_js_yn', 'photo_yn', 'graphic_yn',\n",
    "             'job_type_num','seniority_num']]"
   ]
  },
  {
   "cell_type": "code",
   "execution_count": 8,
   "metadata": {},
   "outputs": [
    {
     "output_type": "execute_result",
     "data": {
      "text/plain": "     AvgSalary  Rating  jobhq  age  figma_yn  adobe_yn  cad_yn  \\\n0        141.0     4.1      1   11         0         0       0   \n1        141.0     4.2      1  143         0         1       0   \n2        141.0     3.0      1   14         0         0       0   \n3        141.0     4.5      0   43         0         0       0   \n4        141.0     4.0      0   34         0         0       1   \n..         ...     ...    ...  ...       ...       ...     ...   \n921      140.5     4.0      0  105         0         0       1   \n922      140.5     4.0      1   36         0         1       0   \n923      140.5     3.2      1   18         0         0       0   \n924      140.5     4.1      1   31         1         0       0   \n925      140.5     3.7      0   16         0         1       0   \n\n     html_css_js_yn  photo_yn  graphic_yn  job_type_num  seniority_num  \n0                 1         0           0             6              2  \n1                 0         0           0             6              2  \n2                 0         0           0             1              2  \n3                 0         1           0             1              2  \n4                 0         0           0             1              2  \n..              ...       ...         ...           ...            ...  \n921               0         1           0             1              2  \n922               1         0           0             1              2  \n923               0         0           0             1              1  \n924               1         0           0             1              1  \n925               0         0           0             1              2  \n\n[926 rows x 12 columns]",
      "text/html": "<div>\n<style scoped>\n    .dataframe tbody tr th:only-of-type {\n        vertical-align: middle;\n    }\n\n    .dataframe tbody tr th {\n        vertical-align: top;\n    }\n\n    .dataframe thead th {\n        text-align: right;\n    }\n</style>\n<table border=\"1\" class=\"dataframe\">\n  <thead>\n    <tr style=\"text-align: right;\">\n      <th></th>\n      <th>AvgSalary</th>\n      <th>Rating</th>\n      <th>jobhq</th>\n      <th>age</th>\n      <th>figma_yn</th>\n      <th>adobe_yn</th>\n      <th>cad_yn</th>\n      <th>html_css_js_yn</th>\n      <th>photo_yn</th>\n      <th>graphic_yn</th>\n      <th>job_type_num</th>\n      <th>seniority_num</th>\n    </tr>\n  </thead>\n  <tbody>\n    <tr>\n      <th>0</th>\n      <td>141.0</td>\n      <td>4.1</td>\n      <td>1</td>\n      <td>11</td>\n      <td>0</td>\n      <td>0</td>\n      <td>0</td>\n      <td>1</td>\n      <td>0</td>\n      <td>0</td>\n      <td>6</td>\n      <td>2</td>\n    </tr>\n    <tr>\n      <th>1</th>\n      <td>141.0</td>\n      <td>4.2</td>\n      <td>1</td>\n      <td>143</td>\n      <td>0</td>\n      <td>1</td>\n      <td>0</td>\n      <td>0</td>\n      <td>0</td>\n      <td>0</td>\n      <td>6</td>\n      <td>2</td>\n    </tr>\n    <tr>\n      <th>2</th>\n      <td>141.0</td>\n      <td>3.0</td>\n      <td>1</td>\n      <td>14</td>\n      <td>0</td>\n      <td>0</td>\n      <td>0</td>\n      <td>0</td>\n      <td>0</td>\n      <td>0</td>\n      <td>1</td>\n      <td>2</td>\n    </tr>\n    <tr>\n      <th>3</th>\n      <td>141.0</td>\n      <td>4.5</td>\n      <td>0</td>\n      <td>43</td>\n      <td>0</td>\n      <td>0</td>\n      <td>0</td>\n      <td>0</td>\n      <td>1</td>\n      <td>0</td>\n      <td>1</td>\n      <td>2</td>\n    </tr>\n    <tr>\n      <th>4</th>\n      <td>141.0</td>\n      <td>4.0</td>\n      <td>0</td>\n      <td>34</td>\n      <td>0</td>\n      <td>0</td>\n      <td>1</td>\n      <td>0</td>\n      <td>0</td>\n      <td>0</td>\n      <td>1</td>\n      <td>2</td>\n    </tr>\n    <tr>\n      <th>...</th>\n      <td>...</td>\n      <td>...</td>\n      <td>...</td>\n      <td>...</td>\n      <td>...</td>\n      <td>...</td>\n      <td>...</td>\n      <td>...</td>\n      <td>...</td>\n      <td>...</td>\n      <td>...</td>\n      <td>...</td>\n    </tr>\n    <tr>\n      <th>921</th>\n      <td>140.5</td>\n      <td>4.0</td>\n      <td>0</td>\n      <td>105</td>\n      <td>0</td>\n      <td>0</td>\n      <td>1</td>\n      <td>0</td>\n      <td>1</td>\n      <td>0</td>\n      <td>1</td>\n      <td>2</td>\n    </tr>\n    <tr>\n      <th>922</th>\n      <td>140.5</td>\n      <td>4.0</td>\n      <td>1</td>\n      <td>36</td>\n      <td>0</td>\n      <td>1</td>\n      <td>0</td>\n      <td>1</td>\n      <td>0</td>\n      <td>0</td>\n      <td>1</td>\n      <td>2</td>\n    </tr>\n    <tr>\n      <th>923</th>\n      <td>140.5</td>\n      <td>3.2</td>\n      <td>1</td>\n      <td>18</td>\n      <td>0</td>\n      <td>0</td>\n      <td>0</td>\n      <td>0</td>\n      <td>0</td>\n      <td>0</td>\n      <td>1</td>\n      <td>1</td>\n    </tr>\n    <tr>\n      <th>924</th>\n      <td>140.5</td>\n      <td>4.1</td>\n      <td>1</td>\n      <td>31</td>\n      <td>1</td>\n      <td>0</td>\n      <td>0</td>\n      <td>1</td>\n      <td>0</td>\n      <td>0</td>\n      <td>1</td>\n      <td>1</td>\n    </tr>\n    <tr>\n      <th>925</th>\n      <td>140.5</td>\n      <td>3.7</td>\n      <td>0</td>\n      <td>16</td>\n      <td>0</td>\n      <td>1</td>\n      <td>0</td>\n      <td>0</td>\n      <td>0</td>\n      <td>0</td>\n      <td>1</td>\n      <td>2</td>\n    </tr>\n  </tbody>\n</table>\n<p>926 rows × 12 columns</p>\n</div>"
     },
     "metadata": {},
     "execution_count": 8
    }
   ],
   "source": [
    "df_model"
   ]
  },
  {
   "cell_type": "code",
   "execution_count": 9,
   "metadata": {},
   "outputs": [],
   "source": [
    "df_dum=pd.get_dummies(df_model)"
   ]
  },
  {
   "cell_type": "code",
   "execution_count": 10,
   "metadata": {},
   "outputs": [],
   "source": [
    "from sklearn.model_selection import train_test_split"
   ]
  },
  {
   "cell_type": "code",
   "execution_count": 11,
   "metadata": {},
   "outputs": [],
   "source": [
    "X=df_dum.drop('AvgSalary',axis=1)\n",
    "y=df_dum.AvgSalary.values"
   ]
  },
  {
   "cell_type": "code",
   "execution_count": 12,
   "metadata": {},
   "outputs": [],
   "source": [
    "X_train,X_test,y_train,y_test=train_test_split(X,y,test_size=0.2,random_state=24)"
   ]
  },
  {
   "cell_type": "code",
   "execution_count": 13,
   "metadata": {},
   "outputs": [
    {
     "output_type": "execute_result",
     "data": {
      "text/plain": "     Rating  jobhq  age  figma_yn  adobe_yn  cad_yn  html_css_js_yn  photo_yn  \\\n3       4.5      0   43         0         0       0               0         1   \n703     3.9      0   34         0         1       0               0         1   \n109     3.2      0   46         0         1       0               0         1   \n351     3.9      0   35         0         0       1               0         0   \n93      3.7      0  169         0         0       0               0         0   \n..      ...    ...  ...       ...       ...     ...             ...       ...   \n103     3.3      1   18         0         0       0               1         0   \n220     4.0      1   32         0         1       0               1         0   \n495     4.1      1   31         1         0       0               1         0   \n652     4.6      1   32         0         1       0               0         0   \n437     4.0      1   11         0         0       0               0         0   \n\n     graphic_yn  job_type_num  seniority_num  \n3             0             1              2  \n703           1             1              2  \n109           1             6              2  \n351           1             1              2  \n93            0             6              1  \n..          ...           ...            ...  \n103           1             1              2  \n220           1             4              2  \n495           0             1              1  \n652           1             2              2  \n437           0             1              1  \n\n[186 rows x 11 columns]",
      "text/html": "<div>\n<style scoped>\n    .dataframe tbody tr th:only-of-type {\n        vertical-align: middle;\n    }\n\n    .dataframe tbody tr th {\n        vertical-align: top;\n    }\n\n    .dataframe thead th {\n        text-align: right;\n    }\n</style>\n<table border=\"1\" class=\"dataframe\">\n  <thead>\n    <tr style=\"text-align: right;\">\n      <th></th>\n      <th>Rating</th>\n      <th>jobhq</th>\n      <th>age</th>\n      <th>figma_yn</th>\n      <th>adobe_yn</th>\n      <th>cad_yn</th>\n      <th>html_css_js_yn</th>\n      <th>photo_yn</th>\n      <th>graphic_yn</th>\n      <th>job_type_num</th>\n      <th>seniority_num</th>\n    </tr>\n  </thead>\n  <tbody>\n    <tr>\n      <th>3</th>\n      <td>4.5</td>\n      <td>0</td>\n      <td>43</td>\n      <td>0</td>\n      <td>0</td>\n      <td>0</td>\n      <td>0</td>\n      <td>1</td>\n      <td>0</td>\n      <td>1</td>\n      <td>2</td>\n    </tr>\n    <tr>\n      <th>703</th>\n      <td>3.9</td>\n      <td>0</td>\n      <td>34</td>\n      <td>0</td>\n      <td>1</td>\n      <td>0</td>\n      <td>0</td>\n      <td>1</td>\n      <td>1</td>\n      <td>1</td>\n      <td>2</td>\n    </tr>\n    <tr>\n      <th>109</th>\n      <td>3.2</td>\n      <td>0</td>\n      <td>46</td>\n      <td>0</td>\n      <td>1</td>\n      <td>0</td>\n      <td>0</td>\n      <td>1</td>\n      <td>1</td>\n      <td>6</td>\n      <td>2</td>\n    </tr>\n    <tr>\n      <th>351</th>\n      <td>3.9</td>\n      <td>0</td>\n      <td>35</td>\n      <td>0</td>\n      <td>0</td>\n      <td>1</td>\n      <td>0</td>\n      <td>0</td>\n      <td>1</td>\n      <td>1</td>\n      <td>2</td>\n    </tr>\n    <tr>\n      <th>93</th>\n      <td>3.7</td>\n      <td>0</td>\n      <td>169</td>\n      <td>0</td>\n      <td>0</td>\n      <td>0</td>\n      <td>0</td>\n      <td>0</td>\n      <td>0</td>\n      <td>6</td>\n      <td>1</td>\n    </tr>\n    <tr>\n      <th>...</th>\n      <td>...</td>\n      <td>...</td>\n      <td>...</td>\n      <td>...</td>\n      <td>...</td>\n      <td>...</td>\n      <td>...</td>\n      <td>...</td>\n      <td>...</td>\n      <td>...</td>\n      <td>...</td>\n    </tr>\n    <tr>\n      <th>103</th>\n      <td>3.3</td>\n      <td>1</td>\n      <td>18</td>\n      <td>0</td>\n      <td>0</td>\n      <td>0</td>\n      <td>1</td>\n      <td>0</td>\n      <td>1</td>\n      <td>1</td>\n      <td>2</td>\n    </tr>\n    <tr>\n      <th>220</th>\n      <td>4.0</td>\n      <td>1</td>\n      <td>32</td>\n      <td>0</td>\n      <td>1</td>\n      <td>0</td>\n      <td>1</td>\n      <td>0</td>\n      <td>1</td>\n      <td>4</td>\n      <td>2</td>\n    </tr>\n    <tr>\n      <th>495</th>\n      <td>4.1</td>\n      <td>1</td>\n      <td>31</td>\n      <td>1</td>\n      <td>0</td>\n      <td>0</td>\n      <td>1</td>\n      <td>0</td>\n      <td>0</td>\n      <td>1</td>\n      <td>1</td>\n    </tr>\n    <tr>\n      <th>652</th>\n      <td>4.6</td>\n      <td>1</td>\n      <td>32</td>\n      <td>0</td>\n      <td>1</td>\n      <td>0</td>\n      <td>0</td>\n      <td>0</td>\n      <td>1</td>\n      <td>2</td>\n      <td>2</td>\n    </tr>\n    <tr>\n      <th>437</th>\n      <td>4.0</td>\n      <td>1</td>\n      <td>11</td>\n      <td>0</td>\n      <td>0</td>\n      <td>0</td>\n      <td>0</td>\n      <td>0</td>\n      <td>0</td>\n      <td>1</td>\n      <td>1</td>\n    </tr>\n  </tbody>\n</table>\n<p>186 rows × 11 columns</p>\n</div>"
     },
     "metadata": {},
     "execution_count": 13
    }
   ],
   "source": [
    "X_test"
   ]
  },
  {
   "cell_type": "code",
   "execution_count": 14,
   "metadata": {},
   "outputs": [
    {
     "output_type": "execute_result",
     "data": {
      "text/plain": "Index(['Rating', 'jobhq', 'age', 'figma_yn', 'adobe_yn', 'cad_yn',\n       'html_css_js_yn', 'photo_yn', 'graphic_yn', 'job_type_num',\n       'seniority_num'],\n      dtype='object')"
     },
     "metadata": {},
     "execution_count": 14
    }
   ],
   "source": [
    "X_test.columns"
   ]
  },
  {
   "cell_type": "code",
   "execution_count": 15,
   "metadata": {},
   "outputs": [],
   "source": [
    "import statsmodels.api as sm"
   ]
  },
  {
   "cell_type": "code",
   "execution_count": 16,
   "metadata": {},
   "outputs": [
    {
     "output_type": "execute_result",
     "data": {
      "text/plain": "<class 'statsmodels.iolib.summary.Summary'>\n\"\"\"\n                            OLS Regression Results                            \n==============================================================================\nDep. Variable:                      y   R-squared:                       0.075\nModel:                            OLS   Adj. R-squared:                  0.064\nMethod:                 Least Squares   F-statistic:                     6.738\nDate:                Mon, 27 Jul 2020   Prob (F-statistic):           6.02e-11\nTime:                        15:00:03   Log-Likelihood:                -4699.8\nNo. Observations:                 926   AIC:                             9424.\nDf Residuals:                     914   BIC:                             9482.\nDf Model:                          11                                         \nCovariance Type:            nonrobust                                         \n==================================================================================\n                     coef    std err          t      P>|t|      [0.025      0.975]\n----------------------------------------------------------------------------------\nconst            100.7801     11.663      8.641      0.000      77.891     123.669\nRating             7.2298      2.265      3.193      0.001       2.785      11.674\njobhq             -8.1424      2.947     -2.763      0.006     -13.927      -2.358\nage               -0.1682      0.042     -4.029      0.000      -0.250      -0.086\nfigma_yn           5.0360      5.015      1.004      0.316      -4.807      14.879\nadobe_yn          -9.0790      2.992     -3.035      0.002     -14.950      -3.208\ncad_yn             9.7917      3.309      2.959      0.003       3.297      16.287\nhtml_css_js_yn    -2.6469      3.562     -0.743      0.458      -9.638       4.344\nphoto_yn           7.8763      2.969      2.653      0.008       2.050      13.703\ngraphic_yn         3.8432      2.918      1.317      0.188      -1.884       9.570\njob_type_num      -2.0822      0.747     -2.787      0.005      -3.549      -0.616\nseniority_num     -3.2927      3.144     -1.047      0.295      -9.464       2.878\n==============================================================================\nOmnibus:                      121.980   Durbin-Watson:                   0.174\nProb(Omnibus):                  0.000   Jarque-Bera (JB):              170.988\nSkew:                          -1.047   Prob(JB):                     7.42e-38\nKurtosis:                       2.775   Cond. No.                         448.\n==============================================================================\n\nWarnings:\n[1] Standard Errors assume that the covariance matrix of the errors is correctly specified.\n\"\"\"",
      "text/html": "<table class=\"simpletable\">\n<caption>OLS Regression Results</caption>\n<tr>\n  <th>Dep. Variable:</th>            <td>y</td>        <th>  R-squared:         </th> <td>   0.075</td>\n</tr>\n<tr>\n  <th>Model:</th>                   <td>OLS</td>       <th>  Adj. R-squared:    </th> <td>   0.064</td>\n</tr>\n<tr>\n  <th>Method:</th>             <td>Least Squares</td>  <th>  F-statistic:       </th> <td>   6.738</td>\n</tr>\n<tr>\n  <th>Date:</th>             <td>Mon, 27 Jul 2020</td> <th>  Prob (F-statistic):</th> <td>6.02e-11</td>\n</tr>\n<tr>\n  <th>Time:</th>                 <td>15:00:03</td>     <th>  Log-Likelihood:    </th> <td> -4699.8</td>\n</tr>\n<tr>\n  <th>No. Observations:</th>      <td>   926</td>      <th>  AIC:               </th> <td>   9424.</td>\n</tr>\n<tr>\n  <th>Df Residuals:</th>          <td>   914</td>      <th>  BIC:               </th> <td>   9482.</td>\n</tr>\n<tr>\n  <th>Df Model:</th>              <td>    11</td>      <th>                     </th>     <td> </td>   \n</tr>\n<tr>\n  <th>Covariance Type:</th>      <td>nonrobust</td>    <th>                     </th>     <td> </td>   \n</tr>\n</table>\n<table class=\"simpletable\">\n<tr>\n         <td></td>           <th>coef</th>     <th>std err</th>      <th>t</th>      <th>P>|t|</th>  <th>[0.025</th>    <th>0.975]</th>  \n</tr>\n<tr>\n  <th>const</th>          <td>  100.7801</td> <td>   11.663</td> <td>    8.641</td> <td> 0.000</td> <td>   77.891</td> <td>  123.669</td>\n</tr>\n<tr>\n  <th>Rating</th>         <td>    7.2298</td> <td>    2.265</td> <td>    3.193</td> <td> 0.001</td> <td>    2.785</td> <td>   11.674</td>\n</tr>\n<tr>\n  <th>jobhq</th>          <td>   -8.1424</td> <td>    2.947</td> <td>   -2.763</td> <td> 0.006</td> <td>  -13.927</td> <td>   -2.358</td>\n</tr>\n<tr>\n  <th>age</th>            <td>   -0.1682</td> <td>    0.042</td> <td>   -4.029</td> <td> 0.000</td> <td>   -0.250</td> <td>   -0.086</td>\n</tr>\n<tr>\n  <th>figma_yn</th>       <td>    5.0360</td> <td>    5.015</td> <td>    1.004</td> <td> 0.316</td> <td>   -4.807</td> <td>   14.879</td>\n</tr>\n<tr>\n  <th>adobe_yn</th>       <td>   -9.0790</td> <td>    2.992</td> <td>   -3.035</td> <td> 0.002</td> <td>  -14.950</td> <td>   -3.208</td>\n</tr>\n<tr>\n  <th>cad_yn</th>         <td>    9.7917</td> <td>    3.309</td> <td>    2.959</td> <td> 0.003</td> <td>    3.297</td> <td>   16.287</td>\n</tr>\n<tr>\n  <th>html_css_js_yn</th> <td>   -2.6469</td> <td>    3.562</td> <td>   -0.743</td> <td> 0.458</td> <td>   -9.638</td> <td>    4.344</td>\n</tr>\n<tr>\n  <th>photo_yn</th>       <td>    7.8763</td> <td>    2.969</td> <td>    2.653</td> <td> 0.008</td> <td>    2.050</td> <td>   13.703</td>\n</tr>\n<tr>\n  <th>graphic_yn</th>     <td>    3.8432</td> <td>    2.918</td> <td>    1.317</td> <td> 0.188</td> <td>   -1.884</td> <td>    9.570</td>\n</tr>\n<tr>\n  <th>job_type_num</th>   <td>   -2.0822</td> <td>    0.747</td> <td>   -2.787</td> <td> 0.005</td> <td>   -3.549</td> <td>   -0.616</td>\n</tr>\n<tr>\n  <th>seniority_num</th>  <td>   -3.2927</td> <td>    3.144</td> <td>   -1.047</td> <td> 0.295</td> <td>   -9.464</td> <td>    2.878</td>\n</tr>\n</table>\n<table class=\"simpletable\">\n<tr>\n  <th>Omnibus:</th>       <td>121.980</td> <th>  Durbin-Watson:     </th> <td>   0.174</td>\n</tr>\n<tr>\n  <th>Prob(Omnibus):</th> <td> 0.000</td>  <th>  Jarque-Bera (JB):  </th> <td> 170.988</td>\n</tr>\n<tr>\n  <th>Skew:</th>          <td>-1.047</td>  <th>  Prob(JB):          </th> <td>7.42e-38</td>\n</tr>\n<tr>\n  <th>Kurtosis:</th>      <td> 2.775</td>  <th>  Cond. No.          </th> <td>    448.</td>\n</tr>\n</table><br/><br/>Warnings:<br/>[1] Standard Errors assume that the covariance matrix of the errors is correctly specified."
     },
     "metadata": {},
     "execution_count": 16
    }
   ],
   "source": [
    "X_sm=X=sm.add_constant(X)\n",
    "model=sm.OLS(y,X_sm)\n",
    "model.fit().summary()"
   ]
  },
  {
   "cell_type": "code",
   "execution_count": 17,
   "metadata": {},
   "outputs": [],
   "source": [
    "from sklearn.linear_model import LinearRegression, Lasso\n",
    "from sklearn.model_selection import cross_val_score"
   ]
  },
  {
   "cell_type": "code",
   "execution_count": 18,
   "metadata": {},
   "outputs": [
    {
     "output_type": "execute_result",
     "data": {
      "text/plain": "LinearRegression(copy_X=True, fit_intercept=True, n_jobs=None, normalize=False)"
     },
     "metadata": {},
     "execution_count": 18
    }
   ],
   "source": [
    "lm=LinearRegression()\n",
    "lm.fit(X_train,y_train)"
   ]
  },
  {
   "cell_type": "code",
   "execution_count": 19,
   "metadata": {},
   "outputs": [
    {
     "output_type": "execute_result",
     "data": {
      "text/plain": "-34.206792894023124"
     },
     "metadata": {},
     "execution_count": 19
    }
   ],
   "source": [
    "np.mean(cross_val_score(lm,X_train,y_train,scoring='neg_mean_absolute_error', cv=3))"
   ]
  },
  {
   "cell_type": "code",
   "execution_count": 20,
   "metadata": {},
   "outputs": [
    {
     "output_type": "execute_result",
     "data": {
      "text/plain": "-34.443635123416584"
     },
     "metadata": {},
     "execution_count": 20
    }
   ],
   "source": [
    "lm_l=Lasso(alpha=.19)\n",
    "lm_l.fit(X_train,y_train)\n",
    "np.mean(cross_val_score(lm_l,X_train,y_train,scoring='neg_mean_absolute_error', cv=3))"
   ]
  },
  {
   "cell_type": "code",
   "execution_count": 21,
   "metadata": {},
   "outputs": [],
   "source": [
    "alpha=[]\n",
    "error=[]\n",
    "for i in range(1,100):\n",
    "    alpha.append(i/100)\n",
    "    lml=Lasso(alpha=(i/100))\n",
    "    error.append(np.mean(cross_val_score(lml,X_train,y_train,scoring='neg_mean_absolute_error', cv=3)))"
   ]
  },
  {
   "cell_type": "code",
   "execution_count": 22,
   "metadata": {},
   "outputs": [
    {
     "output_type": "execute_result",
     "data": {
      "text/plain": "[<matplotlib.lines.Line2D at 0x1a271ea5d0>]"
     },
     "metadata": {},
     "execution_count": 22
    },
    {
     "output_type": "display_data",
     "data": {
      "text/plain": "<Figure size 432x288 with 1 Axes>",
      "image/svg+xml": "<?xml version=\"1.0\" encoding=\"utf-8\" standalone=\"no\"?>\n<!DOCTYPE svg PUBLIC \"-//W3C//DTD SVG 1.1//EN\"\n  \"http://www.w3.org/Graphics/SVG/1.1/DTD/svg11.dtd\">\n<!-- Created with matplotlib (https://matplotlib.org/) -->\n<svg height=\"248.518125pt\" version=\"1.1\" viewBox=\"0 0 386.845313 248.518125\" width=\"386.845313pt\" xmlns=\"http://www.w3.org/2000/svg\" xmlns:xlink=\"http://www.w3.org/1999/xlink\">\n <defs>\n  <style type=\"text/css\">\n*{stroke-linecap:butt;stroke-linejoin:round;}\n  </style>\n </defs>\n <g id=\"figure_1\">\n  <g id=\"patch_1\">\n   <path d=\"M 0 248.518125 \nL 386.845313 248.518125 \nL 386.845313 0 \nL 0 0 \nz\n\" style=\"fill:none;\"/>\n  </g>\n  <g id=\"axes_1\">\n   <g id=\"patch_2\">\n    <path d=\"M 44.845313 224.64 \nL 379.645313 224.64 \nL 379.645313 7.2 \nL 44.845313 7.2 \nz\n\" style=\"fill:#ffffff;\"/>\n   </g>\n   <g id=\"matplotlib.axis_1\">\n    <g id=\"xtick_1\">\n     <g id=\"line2d_1\">\n      <defs>\n       <path d=\"M 0 0 \nL 0 3.5 \n\" id=\"md933630362\" style=\"stroke:#000000;stroke-width:0.8;\"/>\n      </defs>\n      <g>\n       <use style=\"stroke:#000000;stroke-width:0.8;\" x=\"56.957743\" xlink:href=\"#md933630362\" y=\"224.64\"/>\n      </g>\n     </g>\n     <g id=\"text_1\">\n      <!-- 0.0 -->\n      <defs>\n       <path d=\"M 31.78125 66.40625 \nQ 24.171875 66.40625 20.328125 58.90625 \nQ 16.5 51.421875 16.5 36.375 \nQ 16.5 21.390625 20.328125 13.890625 \nQ 24.171875 6.390625 31.78125 6.390625 \nQ 39.453125 6.390625 43.28125 13.890625 \nQ 47.125 21.390625 47.125 36.375 \nQ 47.125 51.421875 43.28125 58.90625 \nQ 39.453125 66.40625 31.78125 66.40625 \nz\nM 31.78125 74.21875 \nQ 44.046875 74.21875 50.515625 64.515625 \nQ 56.984375 54.828125 56.984375 36.375 \nQ 56.984375 17.96875 50.515625 8.265625 \nQ 44.046875 -1.421875 31.78125 -1.421875 \nQ 19.53125 -1.421875 13.0625 8.265625 \nQ 6.59375 17.96875 6.59375 36.375 \nQ 6.59375 54.828125 13.0625 64.515625 \nQ 19.53125 74.21875 31.78125 74.21875 \nz\n\" id=\"DejaVuSans-48\"/>\n       <path d=\"M 10.6875 12.40625 \nL 21 12.40625 \nL 21 0 \nL 10.6875 0 \nz\n\" id=\"DejaVuSans-46\"/>\n      </defs>\n      <g transform=\"translate(49.00618 239.238437)scale(0.1 -0.1)\">\n       <use xlink:href=\"#DejaVuSans-48\"/>\n       <use x=\"63.623047\" xlink:href=\"#DejaVuSans-46\"/>\n       <use x=\"95.410156\" xlink:href=\"#DejaVuSans-48\"/>\n      </g>\n     </g>\n    </g>\n    <g id=\"xtick_2\">\n     <g id=\"line2d_2\">\n      <g>\n       <use style=\"stroke:#000000;stroke-width:0.8;\" x=\"119.072771\" xlink:href=\"#md933630362\" y=\"224.64\"/>\n      </g>\n     </g>\n     <g id=\"text_2\">\n      <!-- 0.2 -->\n      <defs>\n       <path d=\"M 19.1875 8.296875 \nL 53.609375 8.296875 \nL 53.609375 0 \nL 7.328125 0 \nL 7.328125 8.296875 \nQ 12.9375 14.109375 22.625 23.890625 \nQ 32.328125 33.6875 34.8125 36.53125 \nQ 39.546875 41.84375 41.421875 45.53125 \nQ 43.3125 49.21875 43.3125 52.78125 \nQ 43.3125 58.59375 39.234375 62.25 \nQ 35.15625 65.921875 28.609375 65.921875 \nQ 23.96875 65.921875 18.8125 64.3125 \nQ 13.671875 62.703125 7.8125 59.421875 \nL 7.8125 69.390625 \nQ 13.765625 71.78125 18.9375 73 \nQ 24.125 74.21875 28.421875 74.21875 \nQ 39.75 74.21875 46.484375 68.546875 \nQ 53.21875 62.890625 53.21875 53.421875 \nQ 53.21875 48.921875 51.53125 44.890625 \nQ 49.859375 40.875 45.40625 35.40625 \nQ 44.1875 33.984375 37.640625 27.21875 \nQ 31.109375 20.453125 19.1875 8.296875 \nz\n\" id=\"DejaVuSans-50\"/>\n      </defs>\n      <g transform=\"translate(111.121208 239.238437)scale(0.1 -0.1)\">\n       <use xlink:href=\"#DejaVuSans-48\"/>\n       <use x=\"63.623047\" xlink:href=\"#DejaVuSans-46\"/>\n       <use x=\"95.410156\" xlink:href=\"#DejaVuSans-50\"/>\n      </g>\n     </g>\n    </g>\n    <g id=\"xtick_3\">\n     <g id=\"line2d_3\">\n      <g>\n       <use style=\"stroke:#000000;stroke-width:0.8;\" x=\"181.187799\" xlink:href=\"#md933630362\" y=\"224.64\"/>\n      </g>\n     </g>\n     <g id=\"text_3\">\n      <!-- 0.4 -->\n      <defs>\n       <path d=\"M 37.796875 64.3125 \nL 12.890625 25.390625 \nL 37.796875 25.390625 \nz\nM 35.203125 72.90625 \nL 47.609375 72.90625 \nL 47.609375 25.390625 \nL 58.015625 25.390625 \nL 58.015625 17.1875 \nL 47.609375 17.1875 \nL 47.609375 0 \nL 37.796875 0 \nL 37.796875 17.1875 \nL 4.890625 17.1875 \nL 4.890625 26.703125 \nz\n\" id=\"DejaVuSans-52\"/>\n      </defs>\n      <g transform=\"translate(173.236236 239.238437)scale(0.1 -0.1)\">\n       <use xlink:href=\"#DejaVuSans-48\"/>\n       <use x=\"63.623047\" xlink:href=\"#DejaVuSans-46\"/>\n       <use x=\"95.410156\" xlink:href=\"#DejaVuSans-52\"/>\n      </g>\n     </g>\n    </g>\n    <g id=\"xtick_4\">\n     <g id=\"line2d_4\">\n      <g>\n       <use style=\"stroke:#000000;stroke-width:0.8;\" x=\"243.302826\" xlink:href=\"#md933630362\" y=\"224.64\"/>\n      </g>\n     </g>\n     <g id=\"text_4\">\n      <!-- 0.6 -->\n      <defs>\n       <path d=\"M 33.015625 40.375 \nQ 26.375 40.375 22.484375 35.828125 \nQ 18.609375 31.296875 18.609375 23.390625 \nQ 18.609375 15.53125 22.484375 10.953125 \nQ 26.375 6.390625 33.015625 6.390625 \nQ 39.65625 6.390625 43.53125 10.953125 \nQ 47.40625 15.53125 47.40625 23.390625 \nQ 47.40625 31.296875 43.53125 35.828125 \nQ 39.65625 40.375 33.015625 40.375 \nz\nM 52.59375 71.296875 \nL 52.59375 62.3125 \nQ 48.875 64.0625 45.09375 64.984375 \nQ 41.3125 65.921875 37.59375 65.921875 \nQ 27.828125 65.921875 22.671875 59.328125 \nQ 17.53125 52.734375 16.796875 39.40625 \nQ 19.671875 43.65625 24.015625 45.921875 \nQ 28.375 48.1875 33.59375 48.1875 \nQ 44.578125 48.1875 50.953125 41.515625 \nQ 57.328125 34.859375 57.328125 23.390625 \nQ 57.328125 12.15625 50.6875 5.359375 \nQ 44.046875 -1.421875 33.015625 -1.421875 \nQ 20.359375 -1.421875 13.671875 8.265625 \nQ 6.984375 17.96875 6.984375 36.375 \nQ 6.984375 53.65625 15.1875 63.9375 \nQ 23.390625 74.21875 37.203125 74.21875 \nQ 40.921875 74.21875 44.703125 73.484375 \nQ 48.484375 72.75 52.59375 71.296875 \nz\n\" id=\"DejaVuSans-54\"/>\n      </defs>\n      <g transform=\"translate(235.351264 239.238437)scale(0.1 -0.1)\">\n       <use xlink:href=\"#DejaVuSans-48\"/>\n       <use x=\"63.623047\" xlink:href=\"#DejaVuSans-46\"/>\n       <use x=\"95.410156\" xlink:href=\"#DejaVuSans-54\"/>\n      </g>\n     </g>\n    </g>\n    <g id=\"xtick_5\">\n     <g id=\"line2d_5\">\n      <g>\n       <use style=\"stroke:#000000;stroke-width:0.8;\" x=\"305.417854\" xlink:href=\"#md933630362\" y=\"224.64\"/>\n      </g>\n     </g>\n     <g id=\"text_5\">\n      <!-- 0.8 -->\n      <defs>\n       <path d=\"M 31.78125 34.625 \nQ 24.75 34.625 20.71875 30.859375 \nQ 16.703125 27.09375 16.703125 20.515625 \nQ 16.703125 13.921875 20.71875 10.15625 \nQ 24.75 6.390625 31.78125 6.390625 \nQ 38.8125 6.390625 42.859375 10.171875 \nQ 46.921875 13.96875 46.921875 20.515625 \nQ 46.921875 27.09375 42.890625 30.859375 \nQ 38.875 34.625 31.78125 34.625 \nz\nM 21.921875 38.8125 \nQ 15.578125 40.375 12.03125 44.71875 \nQ 8.5 49.078125 8.5 55.328125 \nQ 8.5 64.0625 14.71875 69.140625 \nQ 20.953125 74.21875 31.78125 74.21875 \nQ 42.671875 74.21875 48.875 69.140625 \nQ 55.078125 64.0625 55.078125 55.328125 \nQ 55.078125 49.078125 51.53125 44.71875 \nQ 48 40.375 41.703125 38.8125 \nQ 48.828125 37.15625 52.796875 32.3125 \nQ 56.78125 27.484375 56.78125 20.515625 \nQ 56.78125 9.90625 50.3125 4.234375 \nQ 43.84375 -1.421875 31.78125 -1.421875 \nQ 19.734375 -1.421875 13.25 4.234375 \nQ 6.78125 9.90625 6.78125 20.515625 \nQ 6.78125 27.484375 10.78125 32.3125 \nQ 14.796875 37.15625 21.921875 38.8125 \nz\nM 18.3125 54.390625 \nQ 18.3125 48.734375 21.84375 45.5625 \nQ 25.390625 42.390625 31.78125 42.390625 \nQ 38.140625 42.390625 41.71875 45.5625 \nQ 45.3125 48.734375 45.3125 54.390625 \nQ 45.3125 60.0625 41.71875 63.234375 \nQ 38.140625 66.40625 31.78125 66.40625 \nQ 25.390625 66.40625 21.84375 63.234375 \nQ 18.3125 60.0625 18.3125 54.390625 \nz\n\" id=\"DejaVuSans-56\"/>\n      </defs>\n      <g transform=\"translate(297.466292 239.238437)scale(0.1 -0.1)\">\n       <use xlink:href=\"#DejaVuSans-48\"/>\n       <use x=\"63.623047\" xlink:href=\"#DejaVuSans-46\"/>\n       <use x=\"95.410156\" xlink:href=\"#DejaVuSans-56\"/>\n      </g>\n     </g>\n    </g>\n    <g id=\"xtick_6\">\n     <g id=\"line2d_6\">\n      <g>\n       <use style=\"stroke:#000000;stroke-width:0.8;\" x=\"367.532882\" xlink:href=\"#md933630362\" y=\"224.64\"/>\n      </g>\n     </g>\n     <g id=\"text_6\">\n      <!-- 1.0 -->\n      <defs>\n       <path d=\"M 12.40625 8.296875 \nL 28.515625 8.296875 \nL 28.515625 63.921875 \nL 10.984375 60.40625 \nL 10.984375 69.390625 \nL 28.421875 72.90625 \nL 38.28125 72.90625 \nL 38.28125 8.296875 \nL 54.390625 8.296875 \nL 54.390625 0 \nL 12.40625 0 \nz\n\" id=\"DejaVuSans-49\"/>\n      </defs>\n      <g transform=\"translate(359.58132 239.238437)scale(0.1 -0.1)\">\n       <use xlink:href=\"#DejaVuSans-49\"/>\n       <use x=\"63.623047\" xlink:href=\"#DejaVuSans-46\"/>\n       <use x=\"95.410156\" xlink:href=\"#DejaVuSans-48\"/>\n      </g>\n     </g>\n    </g>\n   </g>\n   <g id=\"matplotlib.axis_2\">\n    <g id=\"ytick_1\">\n     <g id=\"line2d_7\">\n      <defs>\n       <path d=\"M 0 0 \nL -3.5 0 \n\" id=\"m4899b19a04\" style=\"stroke:#000000;stroke-width:0.8;\"/>\n      </defs>\n      <g>\n       <use style=\"stroke:#000000;stroke-width:0.8;\" x=\"44.845313\" xlink:href=\"#m4899b19a04\" y=\"217.864247\"/>\n      </g>\n     </g>\n     <g id=\"text_7\">\n      <!-- −35.2 -->\n      <defs>\n       <path d=\"M 10.59375 35.5 \nL 73.1875 35.5 \nL 73.1875 27.203125 \nL 10.59375 27.203125 \nz\n\" id=\"DejaVuSans-8722\"/>\n       <path d=\"M 40.578125 39.3125 \nQ 47.65625 37.796875 51.625 33 \nQ 55.609375 28.21875 55.609375 21.1875 \nQ 55.609375 10.40625 48.1875 4.484375 \nQ 40.765625 -1.421875 27.09375 -1.421875 \nQ 22.515625 -1.421875 17.65625 -0.515625 \nQ 12.796875 0.390625 7.625 2.203125 \nL 7.625 11.71875 \nQ 11.71875 9.328125 16.59375 8.109375 \nQ 21.484375 6.890625 26.8125 6.890625 \nQ 36.078125 6.890625 40.9375 10.546875 \nQ 45.796875 14.203125 45.796875 21.1875 \nQ 45.796875 27.640625 41.28125 31.265625 \nQ 36.765625 34.90625 28.71875 34.90625 \nL 20.21875 34.90625 \nL 20.21875 43.015625 \nL 29.109375 43.015625 \nQ 36.375 43.015625 40.234375 45.921875 \nQ 44.09375 48.828125 44.09375 54.296875 \nQ 44.09375 59.90625 40.109375 62.90625 \nQ 36.140625 65.921875 28.71875 65.921875 \nQ 24.65625 65.921875 20.015625 65.03125 \nQ 15.375 64.15625 9.8125 62.3125 \nL 9.8125 71.09375 \nQ 15.4375 72.65625 20.34375 73.4375 \nQ 25.25 74.21875 29.59375 74.21875 \nQ 40.828125 74.21875 47.359375 69.109375 \nQ 53.90625 64.015625 53.90625 55.328125 \nQ 53.90625 49.265625 50.4375 45.09375 \nQ 46.96875 40.921875 40.578125 39.3125 \nz\n\" id=\"DejaVuSans-51\"/>\n       <path d=\"M 10.796875 72.90625 \nL 49.515625 72.90625 \nL 49.515625 64.59375 \nL 19.828125 64.59375 \nL 19.828125 46.734375 \nQ 21.96875 47.46875 24.109375 47.828125 \nQ 26.265625 48.1875 28.421875 48.1875 \nQ 40.625 48.1875 47.75 41.5 \nQ 54.890625 34.8125 54.890625 23.390625 \nQ 54.890625 11.625 47.5625 5.09375 \nQ 40.234375 -1.421875 26.90625 -1.421875 \nQ 22.3125 -1.421875 17.546875 -0.640625 \nQ 12.796875 0.140625 7.71875 1.703125 \nL 7.71875 11.625 \nQ 12.109375 9.234375 16.796875 8.0625 \nQ 21.484375 6.890625 26.703125 6.890625 \nQ 35.15625 6.890625 40.078125 11.328125 \nQ 45.015625 15.765625 45.015625 23.390625 \nQ 45.015625 31 40.078125 35.4375 \nQ 35.15625 39.890625 26.703125 39.890625 \nQ 22.75 39.890625 18.8125 39.015625 \nQ 14.890625 38.140625 10.796875 36.28125 \nz\n\" id=\"DejaVuSans-53\"/>\n      </defs>\n      <g transform=\"translate(7.2 221.663465)scale(0.1 -0.1)\">\n       <use xlink:href=\"#DejaVuSans-8722\"/>\n       <use x=\"83.789062\" xlink:href=\"#DejaVuSans-51\"/>\n       <use x=\"147.412109\" xlink:href=\"#DejaVuSans-53\"/>\n       <use x=\"211.035156\" xlink:href=\"#DejaVuSans-46\"/>\n       <use x=\"242.822266\" xlink:href=\"#DejaVuSans-50\"/>\n      </g>\n     </g>\n    </g>\n    <g id=\"ytick_2\">\n     <g id=\"line2d_8\">\n      <g>\n       <use style=\"stroke:#000000;stroke-width:0.8;\" x=\"44.845313\" xlink:href=\"#m4899b19a04\" y=\"176.885865\"/>\n      </g>\n     </g>\n     <g id=\"text_8\">\n      <!-- −35.0 -->\n      <g transform=\"translate(7.2 180.685084)scale(0.1 -0.1)\">\n       <use xlink:href=\"#DejaVuSans-8722\"/>\n       <use x=\"83.789062\" xlink:href=\"#DejaVuSans-51\"/>\n       <use x=\"147.412109\" xlink:href=\"#DejaVuSans-53\"/>\n       <use x=\"211.035156\" xlink:href=\"#DejaVuSans-46\"/>\n       <use x=\"242.822266\" xlink:href=\"#DejaVuSans-48\"/>\n      </g>\n     </g>\n    </g>\n    <g id=\"ytick_3\">\n     <g id=\"line2d_9\">\n      <g>\n       <use style=\"stroke:#000000;stroke-width:0.8;\" x=\"44.845313\" xlink:href=\"#m4899b19a04\" y=\"135.907483\"/>\n      </g>\n     </g>\n     <g id=\"text_9\">\n      <!-- −34.8 -->\n      <g transform=\"translate(7.2 139.706702)scale(0.1 -0.1)\">\n       <use xlink:href=\"#DejaVuSans-8722\"/>\n       <use x=\"83.789062\" xlink:href=\"#DejaVuSans-51\"/>\n       <use x=\"147.412109\" xlink:href=\"#DejaVuSans-52\"/>\n       <use x=\"211.035156\" xlink:href=\"#DejaVuSans-46\"/>\n       <use x=\"242.822266\" xlink:href=\"#DejaVuSans-56\"/>\n      </g>\n     </g>\n    </g>\n    <g id=\"ytick_4\">\n     <g id=\"line2d_10\">\n      <g>\n       <use style=\"stroke:#000000;stroke-width:0.8;\" x=\"44.845313\" xlink:href=\"#m4899b19a04\" y=\"94.929101\"/>\n      </g>\n     </g>\n     <g id=\"text_10\">\n      <!-- −34.6 -->\n      <g transform=\"translate(7.2 98.72832)scale(0.1 -0.1)\">\n       <use xlink:href=\"#DejaVuSans-8722\"/>\n       <use x=\"83.789062\" xlink:href=\"#DejaVuSans-51\"/>\n       <use x=\"147.412109\" xlink:href=\"#DejaVuSans-52\"/>\n       <use x=\"211.035156\" xlink:href=\"#DejaVuSans-46\"/>\n       <use x=\"242.822266\" xlink:href=\"#DejaVuSans-54\"/>\n      </g>\n     </g>\n    </g>\n    <g id=\"ytick_5\">\n     <g id=\"line2d_11\">\n      <g>\n       <use style=\"stroke:#000000;stroke-width:0.8;\" x=\"44.845313\" xlink:href=\"#m4899b19a04\" y=\"53.95072\"/>\n      </g>\n     </g>\n     <g id=\"text_11\">\n      <!-- −34.4 -->\n      <g transform=\"translate(7.2 57.749938)scale(0.1 -0.1)\">\n       <use xlink:href=\"#DejaVuSans-8722\"/>\n       <use x=\"83.789062\" xlink:href=\"#DejaVuSans-51\"/>\n       <use x=\"147.412109\" xlink:href=\"#DejaVuSans-52\"/>\n       <use x=\"211.035156\" xlink:href=\"#DejaVuSans-46\"/>\n       <use x=\"242.822266\" xlink:href=\"#DejaVuSans-52\"/>\n      </g>\n     </g>\n    </g>\n    <g id=\"ytick_6\">\n     <g id=\"line2d_12\">\n      <g>\n       <use style=\"stroke:#000000;stroke-width:0.8;\" x=\"44.845313\" xlink:href=\"#m4899b19a04\" y=\"12.972338\"/>\n      </g>\n     </g>\n     <g id=\"text_12\">\n      <!-- −34.2 -->\n      <g transform=\"translate(7.2 16.771557)scale(0.1 -0.1)\">\n       <use xlink:href=\"#DejaVuSans-8722\"/>\n       <use x=\"83.789062\" xlink:href=\"#DejaVuSans-51\"/>\n       <use x=\"147.412109\" xlink:href=\"#DejaVuSans-52\"/>\n       <use x=\"211.035156\" xlink:href=\"#DejaVuSans-46\"/>\n       <use x=\"242.822266\" xlink:href=\"#DejaVuSans-50\"/>\n      </g>\n     </g>\n    </g>\n   </g>\n   <g id=\"line2d_13\">\n    <path clip-path=\"url(#p7a93b4e62f)\" d=\"M 60.063494 17.083636 \nL 63.169246 19.80435 \nL 66.274997 22.430248 \nL 69.380748 24.996399 \nL 72.4865 27.513182 \nL 75.592251 30.030213 \nL 78.698003 32.546871 \nL 81.803754 35.063535 \nL 84.909505 37.580211 \nL 88.015257 40.096887 \nL 91.121008 42.613633 \nL 94.22676 45.130306 \nL 97.332511 47.647384 \nL 100.438262 50.177989 \nL 103.544014 52.720653 \nL 106.649765 55.263294 \nL 109.755517 57.805931 \nL 112.861268 60.348567 \nL 115.967019 62.891203 \nL 119.072771 65.43384 \nL 122.178522 67.976476 \nL 125.284274 70.519112 \nL 128.390025 73.061749 \nL 131.495776 75.604385 \nL 134.601528 78.147022 \nL 137.707279 80.657138 \nL 140.81303 82.993465 \nL 143.918782 85.326667 \nL 147.024533 87.634243 \nL 150.130285 89.941843 \nL 153.236036 92.254026 \nL 156.341787 94.573285 \nL 159.447539 96.892553 \nL 162.55329 99.211822 \nL 165.659042 101.531091 \nL 168.764793 103.850359 \nL 171.870544 106.169628 \nL 174.976296 108.464398 \nL 178.082047 110.494066 \nL 181.187799 112.517994 \nL 184.29355 114.539649 \nL 187.399301 116.563798 \nL 190.505053 118.587946 \nL 193.610804 120.612094 \nL 196.716556 122.636158 \nL 199.822307 124.660091 \nL 202.928058 126.684025 \nL 206.03381 128.737625 \nL 209.139561 130.883064 \nL 212.245313 133.028472 \nL 215.351064 135.173849 \nL 218.456815 137.319177 \nL 221.562567 139.464418 \nL 224.668318 141.589323 \nL 227.774069 143.643093 \nL 230.879821 145.696835 \nL 233.985572 147.714885 \nL 237.091324 149.61065 \nL 240.197075 151.506449 \nL 243.302826 153.401773 \nL 246.408578 155.296723 \nL 249.514329 157.18958 \nL 252.620081 159.084385 \nL 255.725832 160.979169 \nL 258.831583 162.873952 \nL 261.937335 164.778307 \nL 265.043086 166.683563 \nL 268.148838 168.453232 \nL 271.254589 170.130796 \nL 274.36034 171.80836 \nL 277.466092 173.485928 \nL 280.571843 175.163492 \nL 283.677595 176.841053 \nL 286.783346 178.463048 \nL 289.889097 179.932863 \nL 292.994849 181.402677 \nL 296.1006 182.872492 \nL 299.206351 184.342306 \nL 302.312103 185.812121 \nL 305.417854 187.281935 \nL 308.523606 188.750643 \nL 311.629357 190.196226 \nL 314.735108 191.640859 \nL 317.84086 193.085444 \nL 320.946611 194.530044 \nL 324.052363 195.974745 \nL 327.158114 197.419467 \nL 330.263865 198.864214 \nL 333.369617 200.308962 \nL 336.475368 201.753709 \nL 339.58112 203.198456 \nL 342.686871 204.643203 \nL 345.792622 206.08795 \nL 348.898374 207.532698 \nL 352.004125 208.977437 \nL 355.109877 210.422169 \nL 358.215628 211.866901 \nL 361.321379 213.311632 \nL 364.427131 214.756364 \n\" style=\"fill:none;stroke:#1f77b4;stroke-linecap:square;stroke-width:1.5;\"/>\n   </g>\n   <g id=\"patch_3\">\n    <path d=\"M 44.845313 224.64 \nL 44.845313 7.2 \n\" style=\"fill:none;stroke:#000000;stroke-linecap:square;stroke-linejoin:miter;stroke-width:0.8;\"/>\n   </g>\n   <g id=\"patch_4\">\n    <path d=\"M 379.645313 224.64 \nL 379.645313 7.2 \n\" style=\"fill:none;stroke:#000000;stroke-linecap:square;stroke-linejoin:miter;stroke-width:0.8;\"/>\n   </g>\n   <g id=\"patch_5\">\n    <path d=\"M 44.845313 224.64 \nL 379.645313 224.64 \n\" style=\"fill:none;stroke:#000000;stroke-linecap:square;stroke-linejoin:miter;stroke-width:0.8;\"/>\n   </g>\n   <g id=\"patch_6\">\n    <path d=\"M 44.845313 7.2 \nL 379.645313 7.2 \n\" style=\"fill:none;stroke:#000000;stroke-linecap:square;stroke-linejoin:miter;stroke-width:0.8;\"/>\n   </g>\n  </g>\n </g>\n <defs>\n  <clipPath id=\"p7a93b4e62f\">\n   <rect height=\"217.44\" width=\"334.8\" x=\"44.845313\" y=\"7.2\"/>\n  </clipPath>\n </defs>\n</svg>\n",
      "image/png": "[encoded data removed]"
     },
     "metadata": {
      "needs_background": "light"
     }
    }
   ],
   "source": [
    "plt.plot(alpha,error)"
   ]
  },
  {
   "cell_type": "code",
   "execution_count": 23,
   "metadata": {},
   "outputs": [
    {
     "output_type": "execute_result",
     "data": {
      "text/plain": "   alpha      error\n0   0.01 -34.220066",
      "text/html": "<div>\n<style scoped>\n    .dataframe tbody tr th:only-of-type {\n        vertical-align: middle;\n    }\n\n    .dataframe tbody tr th {\n        vertical-align: top;\n    }\n\n    .dataframe thead th {\n        text-align: right;\n    }\n</style>\n<table border=\"1\" class=\"dataframe\">\n  <thead>\n    <tr style=\"text-align: right;\">\n      <th></th>\n      <th>alpha</th>\n      <th>error</th>\n    </tr>\n  </thead>\n  <tbody>\n    <tr>\n      <th>0</th>\n      <td>0.01</td>\n      <td>-34.220066</td>\n    </tr>\n  </tbody>\n</table>\n</div>"
     },
     "metadata": {},
     "execution_count": 23
    }
   ],
   "source": [
    "err = tuple(zip(alpha,error))\n",
    "df_err = pd.DataFrame(err, columns = ['alpha','error'])\n",
    "df_err[df_err.error == max(df_err.error)]"
   ]
  },
  {
   "cell_type": "code",
   "execution_count": 24,
   "metadata": {},
   "outputs": [],
   "source": [
    "from sklearn.ensemble import RandomForestRegressor"
   ]
  },
  {
   "cell_type": "code",
   "execution_count": 25,
   "metadata": {},
   "outputs": [
    {
     "output_type": "execute_result",
     "data": {
      "text/plain": "-12.251822113484167"
     },
     "metadata": {},
     "execution_count": 25
    }
   ],
   "source": [
    "rf=RandomForestRegressor()\n",
    "rf1=rf.fit(X_train,y_train)\n",
    "np.mean(cross_val_score(rf1,X_train,y_train,scoring='neg_mean_absolute_error', cv=3))"
   ]
  },
  {
   "cell_type": "code",
   "execution_count": 26,
   "metadata": {},
   "outputs": [],
   "source": [
    "import joblib"
   ]
  },
  {
   "cell_type": "code",
   "execution_count": 27,
   "metadata": {},
   "outputs": [
    {
     "output_type": "execute_result",
     "data": {
      "text/plain": "135.27031240441818"
     },
     "metadata": {},
     "execution_count": 27
    }
   ],
   "source": [
    "joblib.dump(rf1,'dsgn_model.pkl')\n",
    "model=joblib.load('dsgn_model.pkl')\n",
    "model.predict(np.array(list(X_test.iloc[1,:])).reshape(1,-1))[0]"
   ]
  },
  {
   "cell_type": "code",
   "execution_count": 28,
   "metadata": {},
   "outputs": [
    {
     "output_type": "execute_result",
     "data": {
      "text/plain": "     AvgSalary  Rating  jobhq  age  figma_yn  adobe_yn  cad_yn  \\\n0        141.0     4.1      1   11         0         0       0   \n1        141.0     4.2      1  143         0         1       0   \n2        141.0     3.0      1   14         0         0       0   \n3        141.0     4.5      0   43         0         0       0   \n4        141.0     4.0      0   34         0         0       1   \n..         ...     ...    ...  ...       ...       ...     ...   \n921      140.5     4.0      0  105         0         0       1   \n922      140.5     4.0      1   36         0         1       0   \n923      140.5     3.2      1   18         0         0       0   \n924      140.5     4.1      1   31         1         0       0   \n925      140.5     3.7      0   16         0         1       0   \n\n     html_css_js_yn  photo_yn  graphic_yn  job_type_num  seniority_num  \n0                 1         0           0             6              2  \n1                 0         0           0             6              2  \n2                 0         0           0             1              2  \n3                 0         1           0             1              2  \n4                 0         0           0             1              2  \n..              ...       ...         ...           ...            ...  \n921               0         1           0             1              2  \n922               1         0           0             1              2  \n923               0         0           0             1              1  \n924               1         0           0             1              1  \n925               0         0           0             1              2  \n\n[926 rows x 12 columns]",
      "text/html": "<div>\n<style scoped>\n    .dataframe tbody tr th:only-of-type {\n        vertical-align: middle;\n    }\n\n    .dataframe tbody tr th {\n        vertical-align: top;\n    }\n\n    .dataframe thead th {\n        text-align: right;\n    }\n</style>\n<table border=\"1\" class=\"dataframe\">\n  <thead>\n    <tr style=\"text-align: right;\">\n      <th></th>\n      <th>AvgSalary</th>\n      <th>Rating</th>\n      <th>jobhq</th>\n      <th>age</th>\n      <th>figma_yn</th>\n      <th>adobe_yn</th>\n      <th>cad_yn</th>\n      <th>html_css_js_yn</th>\n      <th>photo_yn</th>\n      <th>graphic_yn</th>\n      <th>job_type_num</th>\n      <th>seniority_num</th>\n    </tr>\n  </thead>\n  <tbody>\n    <tr>\n      <th>0</th>\n      <td>141.0</td>\n      <td>4.1</td>\n      <td>1</td>\n      <td>11</td>\n      <td>0</td>\n      <td>0</td>\n      <td>0</td>\n      <td>1</td>\n      <td>0</td>\n      <td>0</td>\n      <td>6</td>\n      <td>2</td>\n    </tr>\n    <tr>\n      <th>1</th>\n      <td>141.0</td>\n      <td>4.2</td>\n      <td>1</td>\n      <td>143</td>\n      <td>0</td>\n      <td>1</td>\n      <td>0</td>\n      <td>0</td>\n      <td>0</td>\n      <td>0</td>\n      <td>6</td>\n      <td>2</td>\n    </tr>\n    <tr>\n      <th>2</th>\n      <td>141.0</td>\n      <td>3.0</td>\n      <td>1</td>\n      <td>14</td>\n      <td>0</td>\n      <td>0</td>\n      <td>0</td>\n      <td>0</td>\n      <td>0</td>\n      <td>0</td>\n      <td>1</td>\n      <td>2</td>\n    </tr>\n    <tr>\n      <th>3</th>\n      <td>141.0</td>\n      <td>4.5</td>\n      <td>0</td>\n      <td>43</td>\n      <td>0</td>\n      <td>0</td>\n      <td>0</td>\n      <td>0</td>\n      <td>1</td>\n      <td>0</td>\n      <td>1</td>\n      <td>2</td>\n    </tr>\n    <tr>\n      <th>4</th>\n      <td>141.0</td>\n      <td>4.0</td>\n      <td>0</td>\n      <td>34</td>\n      <td>0</td>\n      <td>0</td>\n      <td>1</td>\n      <td>0</td>\n      <td>0</td>\n      <td>0</td>\n      <td>1</td>\n      <td>2</td>\n    </tr>\n    <tr>\n      <th>...</th>\n      <td>...</td>\n      <td>...</td>\n      <td>...</td>\n      <td>...</td>\n      <td>...</td>\n      <td>...</td>\n      <td>...</td>\n      <td>...</td>\n      <td>...</td>\n      <td>...</td>\n      <td>...</td>\n      <td>...</td>\n    </tr>\n    <tr>\n      <th>921</th>\n      <td>140.5</td>\n      <td>4.0</td>\n      <td>0</td>\n      <td>105</td>\n      <td>0</td>\n      <td>0</td>\n      <td>1</td>\n      <td>0</td>\n      <td>1</td>\n      <td>0</td>\n      <td>1</td>\n      <td>2</td>\n    </tr>\n    <tr>\n      <th>922</th>\n      <td>140.5</td>\n      <td>4.0</td>\n      <td>1</td>\n      <td>36</td>\n      <td>0</td>\n      <td>1</td>\n      <td>0</td>\n      <td>1</td>\n      <td>0</td>\n      <td>0</td>\n      <td>1</td>\n      <td>2</td>\n    </tr>\n    <tr>\n      <th>923</th>\n      <td>140.5</td>\n      <td>3.2</td>\n      <td>1</td>\n      <td>18</td>\n      <td>0</td>\n      <td>0</td>\n      <td>0</td>\n      <td>0</td>\n      <td>0</td>\n      <td>0</td>\n      <td>1</td>\n      <td>1</td>\n    </tr>\n    <tr>\n      <th>924</th>\n      <td>140.5</td>\n      <td>4.1</td>\n      <td>1</td>\n      <td>31</td>\n      <td>1</td>\n      <td>0</td>\n      <td>0</td>\n      <td>1</td>\n      <td>0</td>\n      <td>0</td>\n      <td>1</td>\n      <td>1</td>\n    </tr>\n    <tr>\n      <th>925</th>\n      <td>140.5</td>\n      <td>3.7</td>\n      <td>0</td>\n      <td>16</td>\n      <td>0</td>\n      <td>1</td>\n      <td>0</td>\n      <td>0</td>\n      <td>0</td>\n      <td>0</td>\n      <td>1</td>\n      <td>2</td>\n    </tr>\n  </tbody>\n</table>\n<p>926 rows × 12 columns</p>\n</div>"
     },
     "metadata": {},
     "execution_count": 28
    }
   ],
   "source": [
    "df_model"
   ]
  },
  {
   "cell_type": "code",
   "execution_count": null,
   "metadata": {},
   "outputs": [],
   "source": []
  }
 ],
 "metadata": {
  "language_info": {
   "codemirror_mode": {
    "name": "ipython",
    "version": 3
   },
   "file_extension": ".py",
   "mimetype": "text/x-python",
   "name": "python",
   "nbconvert_exporter": "python",
   "pygments_lexer": "ipython3",
   "version": "3.7.6-final"
  },
  "orig_nbformat": 2,
  "kernelspec": {
   "name": "python3",
   "display_name": "Python 3"
  }
 },
 "nbformat": 4,
 "nbformat_minor": 2
}